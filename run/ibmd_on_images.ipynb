{
 "cells": [
  {
   "cell_type": "code",
   "execution_count": null,
   "id": "61f00b88-1a9f-4d75-82bc-ba826f71d604",
   "metadata": {},
   "outputs": [],
   "source": [
    "%load_ext autoreload\n",
    "%autoreload 2\n",
    "\n",
    "import sys    \n",
    "import os\n",
    "\n",
    "os.environ[\"CUDA_VISIBLE_DEVICES\"] = \"7\"\n",
    "\n",
    "import pickle\n",
    "import warnings\n",
    "from pathlib import Path\n",
    "\n",
    "import matplotlib.pyplot as plt\n",
    "import numpy as np\n",
    "import seaborn as sns\n",
    "import torch\n",
    "import torch.nn as nn\n",
    "import torch.nn.functional as F\n",
    "import torch.utils\n",
    "from IPython.display import clear_output\n",
    "from sklearn.utils import shuffle\n",
    "from torch import Tensor, LongTensor\n",
    "from torch.utils.data import DataLoader, Dataset\n",
    "from tqdm import tqdm\n",
    "\n",
    "warnings.filterwarnings(\"ignore\", category=DeprecationWarning) \n",
    "    \n",
    "from constants import ARTIFACTS_DIR, PROJECT_DIR\n",
    "\n",
    "from ibmd.core import IBMD\n",
    "from pfgmpp.core import PFGMPP\n",
    "from pfgmpp.training.losses import EDMLoss\n",
    "from pfgmpp.utils.data import InfiniteDataLoader\n",
    "\n",
    "sys.path.append(f\"{PROJECT_DIR}/src/pfgmpp_original\")\n",
    "\n",
    "ckpt_name = \"cifar10_ncsnpp_D_2048_conditional.pkl\"\n",
    "EDM_CHEKPOINT_PATH = os.path.join(ARTIFACTS_DIR, \"pfgmpp_original\", \"checkpoints\", ckpt_name)\n",
    "\n",
    "DS_NAME = \"cifar\"\n",
    "RUN_DIR = os.path.join(ARTIFACTS_DIR, \"ibmd_on_images\", DS_NAME)\n",
    "IBMD_DIR = os.path.join(RUN_DIR, ckpt_name.split(\".\")[0])\n",
    "\n",
    "os.makedirs(IBMD_DIR, exist_ok=True)"
   ]
  },
  {
   "cell_type": "markdown",
   "id": "d88efb15-f968-4430-96c7-0d3525880662",
   "metadata": {},
   "source": [
    "# Utils"
   ]
  },
  {
   "cell_type": "code",
   "execution_count": null,
   "id": "964f5ee3-de42-4d13-a8da-d1bc554e9e3d",
   "metadata": {},
   "outputs": [],
   "source": [
    "# Poblem Params (CIFAR-10)\n",
    "IMG_CHANNELS =  3\n",
    "IMG_RESOLUTION = 32\n",
    "DATA_DIM = IMG_CHANNELS * IMG_RESOLUTION**2\n",
    "N_CLASSES = 10\n",
    "\n",
    "SIGMA_MIN = 0.002\n",
    "SIGMA_MAX = 80.0\n",
    "POWER = 11\n",
    "\n",
    "# Loss Params\n",
    "SIGMA_PRIOR_MODE = \"log_normal\"\n",
    "SIGMA_DATA = 0.5 \n",
    "\n",
    "# Sampling params\n",
    "N_GENS = 4\n",
    "LABELS = torch.tensor([0] * N_GENS).long()\n",
    "\n",
    "DEVICE = \"cuda\" if torch.cuda.is_available() else \"cpu\""
   ]
  },
  {
   "cell_type": "code",
   "execution_count": null,
   "id": "065f3bb1-c390-40c2-a60c-ccf8323ada0a",
   "metadata": {},
   "outputs": [],
   "source": [
    "def generate(\n",
    "    *,\n",
    "    pfgmpp: PFGMPP,\n",
    "    net: nn.Module,\n",
    "    sample_size: int,\n",
    "    num_steps: int=32,\n",
    "    label: LongTensor=None,\n",
    "    seed: int=0,\n",
    "):\n",
    "    def drift(*, x, t, label):\n",
    "        return (x - net(x=x, t=t, label=label)) / t\n",
    "    return pfgmpp.sample(\n",
    "        drift=drift,\n",
    "        sample_size=sample_size,\n",
    "        num_steps=num_steps,\n",
    "        label=label,\n",
    "        device=DEVICE,\n",
    "        seed=seed,\n",
    "    ).cpu().numpy().reshape(sample_size, IMG_CHANNELS, IMG_RESOLUTION, IMG_RESOLUTION)\n",
    "\n",
    "def visualize_ibmd(\n",
    "    *,\n",
    "    ibmd: IBMD,\n",
    "    sample_size: int,\n",
    "    label: LongTensor=None,\n",
    "    seed: int=0,\n",
    "):\n",
    "    gens = ibmd.sample(\n",
    "        sample_size=sample_size,\n",
    "        label=label,\n",
    "        seed=seed,\n",
    "    ).reshape(-1, IMG_CHANNELS, IMG_RESOLUTION, IMG_RESOLUTION).cpu().numpy()\n",
    "\n",
    "    ncols = 4\n",
    "    nrows = (sample_size + ncols - 1) // ncols\n",
    "    fig, axes = plt.subplots(nrows=nrows, ncols=ncols, squeeze=False)\n",
    "    fig.set_figheight(nrows * 2)\n",
    "    fig.set_figwidth(ncols * 2)\n",
    "    \n",
    "    for ax_idx in range(nrows * ncols):\n",
    "        i, j = ax_idx // ncols, ax_idx % ncols\n",
    "        ax = axes[i, j]\n",
    "        if ax_idx < len(gens):\n",
    "            ax.axis(\"off\")\n",
    "            ax.imshow(gens[ax_idx].transpose(1, 2, 0));\n",
    "        else:\n",
    "            fig.delaxes(ax)\n",
    "    plt.show()"
   ]
  },
  {
   "cell_type": "code",
   "execution_count": null,
   "id": "7af472c0-656c-4f29-9751-c760b165f5c7",
   "metadata": {},
   "outputs": [],
   "source": [
    "class NetWrapper(nn.Module):\n",
    "    def __init__(self, net: nn.Module):\n",
    "        super().__init__()\n",
    "        self.net = net\n",
    "\n",
    "    def forward(self, x: Tensor, t: Tensor, label: LongTensor=None):\n",
    "        x = x.reshape(-1, IMG_CHANNELS, IMG_RESOLUTION, IMG_RESOLUTION)\n",
    "        class_labels=F.one_hot(label, num_classes=N_CLASSES)\n",
    "        \n",
    "        out = self.net(x=x, sigma=t, class_labels=class_labels)\n",
    "\n",
    "        return out.reshape(-1, DATA_DIM)"
   ]
  },
  {
   "cell_type": "markdown",
   "id": "dc868c86-b32e-4f20-9d3e-7bece7c5a8e6",
   "metadata": {},
   "source": [
    "# PFGM teacher init"
   ]
  },
  {
   "cell_type": "code",
   "execution_count": null,
   "id": "d734f666-c07b-4e7b-8e6a-649e122c170d",
   "metadata": {},
   "outputs": [],
   "source": [
    "pfgmpp = PFGMPP(\n",
    "    data_dim=DATA_DIM,\n",
    "    sigma_min=SIGMA_MIN,\n",
    "    sigma_max=SIGMA_MAX,\n",
    "    D=2**POWER,\n",
    ")\n",
    "with open(EDM_CHEKPOINT_PATH, \"rb\") as f:\n",
    "    net = pickle.load(f)['ema'].to(DEVICE);\n",
    "pfgmpp_cond = NetWrapper(net)\n",
    "for param in pfgmpp_cond.parameters():\n",
    "    param.requires_grad = True"
   ]
  },
  {
   "cell_type": "code",
   "execution_count": null,
   "id": "beab4293-df4e-4b83-87b3-cd01747f62a8",
   "metadata": {},
   "outputs": [],
   "source": [
    "gens = generate(pfgmpp=pfgmpp, net=pfgmpp_cond, sample_size=N_GENS, label=LABELS.to(DEVICE), seed=0)\n",
    "plt.figure(figsize=(2, 2))\n",
    "plt.axis(\"off\")\n",
    "plt.imshow(gens[0].transpose(1, 2, 0));"
   ]
  },
  {
   "cell_type": "code",
   "execution_count": null,
   "id": "0f48f0e9-3888-43f2-9bdb-8822902e5d74",
   "metadata": {},
   "outputs": [],
   "source": [
    "# IBMD init"
   ]
  },
  {
   "cell_type": "code",
   "execution_count": null,
   "id": "285eab28-b44f-4396-bce6-d97882cdf232",
   "metadata": {},
   "outputs": [],
   "source": [
    "BATCH_SIZE = 32\n",
    "INNER_PROBLEM_ITERS = 5"
   ]
  },
  {
   "cell_type": "code",
   "execution_count": null,
   "id": "ea188382-3c3f-4817-87e0-5eb7a995b74f",
   "metadata": {},
   "outputs": [],
   "source": [
    "ibmd = IBMD(\n",
    "    teacher_dynamic=pfgmpp,\n",
    "    teacher_net=pfgmpp_cond,\n",
    "    teacher_loss_fn=EDMLoss(pfgmpp=pfgmpp),\n",
    "    student_net_optimizer_config={\"lr\": 5e-5},\n",
    "    student_data_estimator_net_config={\"lr\": 5e-5},\n",
    "    n_classes=N_CLASSES,\n",
    "    ema_decay=0.99,\n",
    ")"
   ]
  },
  {
   "cell_type": "code",
   "execution_count": null,
   "id": "53d068b5-2403-4db0-8eeb-16e0261e338a",
   "metadata": {
    "scrolled": true
   },
   "outputs": [],
   "source": [
    "visualize_ibmd(ibmd=ibmd, sample_size=N_GENS, label=LABELS.to(DEVICE), seed=0)"
   ]
  },
  {
   "cell_type": "code",
   "execution_count": null,
   "id": "1f073de7-e042-4f81-828a-48909e90bf49",
   "metadata": {},
   "outputs": [],
   "source": [
    "n_epochs = 500\n",
    "sample_every = 50\n",
    "\n",
    "ibmd.load(os.path.join(IBMD_DIR, f\"{int(POWER)}.pt\"))\n",
    "\n",
    "for _ in range(n_epochs):\n",
    "    clear_output()\n",
    "    visualize_ibmd(ibmd=ibmd, sample_size=N_GENS, label=LABELS.to(DEVICE), seed=0)\n",
    "\n",
    "    ibmd.train(\n",
    "        batch_size=BATCH_SIZE,\n",
    "        n_iters=sample_every,\n",
    "        inner_problem_iters=INNER_PROBLEM_ITERS,\n",
    "        log_every=10,\n",
    "        # save_path=os.path.join(IBMD_DIR, f\"{int(POWER)}.pt\"),\n",
    "    )"
   ]
  }
 ],
 "metadata": {
  "kernelspec": {
   "display_name": "Python 3 (ipykernel)",
   "language": "python",
   "name": "python3"
  },
  "language_info": {
   "codemirror_mode": {
    "name": "ipython",
    "version": 3
   },
   "file_extension": ".py",
   "mimetype": "text/x-python",
   "name": "python",
   "nbconvert_exporter": "python",
   "pygments_lexer": "ipython3",
   "version": "3.11.13"
  }
 },
 "nbformat": 4,
 "nbformat_minor": 5
}
