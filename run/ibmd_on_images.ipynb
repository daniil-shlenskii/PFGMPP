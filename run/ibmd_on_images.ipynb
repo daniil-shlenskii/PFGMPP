{
 "cells": [
  {
   "cell_type": "code",
   "execution_count": null,
   "id": "61f00b88-1a9f-4d75-82bc-ba826f71d604",
   "metadata": {},
   "outputs": [],
   "source": [
    "%load_ext autoreload\n",
    "%autoreload 2\n",
    "\n",
    "import sys    \n",
    "import os\n",
    "\n",
    "os.environ[\"CUDA_VISIBLE_DEVICES\"] = \"7\"\n",
    "\n",
    "import pickle\n",
    "import warnings\n",
    "from pathlib import Path\n",
    "\n",
    "import matplotlib.pyplot as plt\n",
    "import numpy as np\n",
    "import seaborn as sns\n",
    "import torch\n",
    "import torch.nn as nn\n",
    "import torch.nn.functional as F\n",
    "import torch.utils\n",
    "from IPython.display import clear_output\n",
    "from sklearn.utils import shuffle\n",
    "from torch import Tensor, LongTensor\n",
    "from torch.utils.data import DataLoader, Dataset\n",
    "from tqdm import tqdm\n",
    "\n",
    "warnings.filterwarnings(\"ignore\", category=DeprecationWarning) \n",
    "    \n",
    "from constants import ARTIFACTS_DIR, PROJECT_DIR\n",
    "\n",
    "from ibmd.core import IBMD\n",
    "# from ibmd.nn.utils import EDMNetWrapper\n",
    "from pfgmpp.core import PFGMPP\n",
    "from pfgmpp.training.losses import EDMLoss\n",
    "from pfgmpp.utils.data import InfiniteDataLoader\n",
    "\n",
    "\n",
    "# ckpt path\n",
    "ckpt_name = \"cifar10_ncsnpp_D_2048_conditional.pkl\"\n",
    "EDM_CHEKPOINT_PATH = os.path.join(ARTIFACTS_DIR, \"checkpoints\", \"pfgmpp\", ckpt_name)\n",
    "\n",
    "# paths to utils for edm-like models loading\n",
    "EDM_UTILS_DIR = os.path.join(PROJECT_DIR, \"src\", \"edm_utils\")\n",
    "TORCH_UTILS_DIR = os.path.join(EDM_UTILS_DIR, \"torch_utils\")\n",
    "DNNLIB_DIR = os.path.join(EDM_UTILS_DIR, \"dnnlib\")\n",
    "sys.path.extend([EDM_UTILS_DIR, TORCH_UTILS_DIR, DNNLIB_DIR])\n",
    "\n",
    "# run dir\n",
    "DS_NAME = \"cifar10\"\n",
    "RUN_DIR = os.path.join(ARTIFACTS_DIR, \"notebooks_outputs\", \"ibmd\", DS_NAME)\n",
    "IBMD_DIR = os.path.join(RUN_DIR, ckpt_name.split(\".\")[0])\n",
    "\n",
    "os.makedirs(IBMD_DIR, exist_ok=True)"
   ]
  },
  {
   "cell_type": "markdown",
   "id": "d88efb15-f968-4430-96c7-0d3525880662",
   "metadata": {},
   "source": [
    "# Utils"
   ]
  },
  {
   "cell_type": "code",
   "execution_count": null,
   "id": "964f5ee3-de42-4d13-a8da-d1bc554e9e3d",
   "metadata": {},
   "outputs": [],
   "source": [
    "# Poblem Params (CIFAR-10)\n",
    "IMG_CHANNELS =  3\n",
    "IMG_RESOLUTION = 32\n",
    "DATA_DIM = IMG_CHANNELS * IMG_RESOLUTION**2\n",
    "N_CLASSES = 10\n",
    "\n",
    "SIGMA_MIN = 0.002\n",
    "SIGMA_MAX = 80.0\n",
    "POWER = 11\n",
    "\n",
    "# Loss Params\n",
    "SIGMA_PRIOR_MODE = \"log_normal\"\n",
    "SIGMA_DATA = 0.5 \n",
    "\n",
    "# Sampling params\n",
    "N_GENS = 4\n",
    "LABELS = torch.tensor([0] * N_GENS).long()\n",
    "\n",
    "DEVICE = \"cuda\" if torch.cuda.is_available() else \"cpu\""
   ]
  },
  {
   "cell_type": "code",
   "execution_count": null,
   "id": "065f3bb1-c390-40c2-a60c-ccf8323ada0a",
   "metadata": {},
   "outputs": [],
   "source": [
    "def generate(\n",
    "    *,\n",
    "    pfgmpp: PFGMPP,\n",
    "    net: nn.Module,\n",
    "    sample_size: int,\n",
    "    num_steps: int=32,\n",
    "    label: LongTensor=None,\n",
    "    seed: int=0,\n",
    "):\n",
    "    def drift(*, x, t, label):\n",
    "        return (x - net(x=x, t=t, label=label)) / t\n",
    "    return pfgmpp.sample(\n",
    "        drift=drift,\n",
    "        sample_size=sample_size,\n",
    "        num_steps=num_steps,\n",
    "        label=label,\n",
    "        device=DEVICE,\n",
    "        seed=seed,\n",
    "    ).cpu().numpy().reshape(sample_size, IMG_CHANNELS, IMG_RESOLUTION, IMG_RESOLUTION)\n",
    "\n",
    "def visualize_ibmd(\n",
    "    *,\n",
    "    ibmd: IBMD,\n",
    "    sample_size: int,\n",
    "    label: LongTensor=None,\n",
    "    seed: int=0,\n",
    "):\n",
    "    gens = ibmd.sample(\n",
    "        sample_size=sample_size,\n",
    "        label=label,\n",
    "        seed=seed,\n",
    "    ).reshape(-1, IMG_CHANNELS, IMG_RESOLUTION, IMG_RESOLUTION).cpu().numpy()\n",
    "\n",
    "    ncols = 4\n",
    "    nrows = (sample_size + ncols - 1) // ncols\n",
    "    fig, axes = plt.subplots(nrows=nrows, ncols=ncols, squeeze=False)\n",
    "    fig.set_figheight(nrows * 2)\n",
    "    fig.set_figwidth(ncols * 2)\n",
    "    \n",
    "    for ax_idx in range(nrows * ncols):\n",
    "        i, j = ax_idx // ncols, ax_idx % ncols\n",
    "        ax = axes[i, j]\n",
    "        if ax_idx < len(gens):\n",
    "            ax.axis(\"off\")\n",
    "            ax.imshow(gens[ax_idx].transpose(1, 2, 0));\n",
    "        else:\n",
    "            fig.delaxes(ax)\n",
    "    plt.show()"
   ]
  },
  {
   "cell_type": "code",
   "execution_count": null,
   "id": "fc213d5a-2e38-4b81-8393-a551c9bfec42",
   "metadata": {},
   "outputs": [],
   "source": [
    "class EDMNetWrapper(nn.Module):\n",
    "    def __init__(\n",
    "        self,\n",
    "        *,\n",
    "        edm_net: nn.Module,\n",
    "        img_channels: int,\n",
    "        img_resolution: int,\n",
    "        n_classes: int=None\n",
    "    ):\n",
    "        super().__init__()\n",
    "        self.edm_net = edm_net\n",
    "\n",
    "        self.img_channels = img_channels\n",
    "        self.img_resolution = img_resolution\n",
    "        self.n_classes = n_classes\n",
    "\n",
    "        self.data_dim = self.img_channels * self.img_resolution**2\n",
    "\n",
    "    def forward(self, x: Tensor, t: Tensor, label: LongTensor=None):\n",
    "        # modify input\n",
    "        x = x.reshape(-1, self.img_channels, self.img_resolution, self.img_resolution)\n",
    "        if label is None:\n",
    "            class_labels = None\n",
    "        else:\n",
    "            class_labels = F.one_hot(label, num_classes=self.n_classes)\n",
    "\n",
    "        # apply edm net\n",
    "        out = self.edm_net(x=x, sigma=t, class_labels=class_labels)\n",
    "\n",
    "        # modify output\n",
    "        return out.reshape(-1, self.data_dim)\n"
   ]
  },
  {
   "cell_type": "markdown",
   "id": "dc868c86-b32e-4f20-9d3e-7bece7c5a8e6",
   "metadata": {},
   "source": [
    "# PFGM teacher init"
   ]
  },
  {
   "cell_type": "code",
   "execution_count": null,
   "id": "d734f666-c07b-4e7b-8e6a-649e122c170d",
   "metadata": {
    "scrolled": true
   },
   "outputs": [],
   "source": [
    "pfgmpp = PFGMPP(\n",
    "    data_dim=DATA_DIM,\n",
    "    sigma_min=SIGMA_MIN,\n",
    "    sigma_max=SIGMA_MAX,\n",
    "    D=2**POWER,\n",
    ")\n",
    "\n",
    "\n",
    "with open(EDM_CHEKPOINT_PATH, \"rb\") as f:\n",
    "    net = pickle.load(f)['ema'].to(DEVICE);\n",
    "\n",
    "pfgmpp_cond = EDMNetWrapper(\n",
    "    edm_net=net,\n",
    "    img_channels=IMG_CHANNELS,\n",
    "    img_resolution=IMG_RESOLUTION,\n",
    "    n_classes=N_CLASSES,\n",
    ")\n",
    "for param in pfgmpp_cond.parameters():\n",
    "    param.requires_grad = True"
   ]
  },
  {
   "cell_type": "code",
   "execution_count": null,
   "id": "beab4293-df4e-4b83-87b3-cd01747f62a8",
   "metadata": {},
   "outputs": [],
   "source": [
    "gens = generate(pfgmpp=pfgmpp, net=pfgmpp_cond, sample_size=N_GENS, label=LABELS.to(DEVICE), seed=0)\n",
    "plt.figure(figsize=(2, 2))\n",
    "plt.axis(\"off\")\n",
    "plt.imshow(gens[0].transpose(1, 2, 0));"
   ]
  },
  {
   "cell_type": "code",
   "execution_count": null,
   "id": "0f48f0e9-3888-43f2-9bdb-8822902e5d74",
   "metadata": {},
   "outputs": [],
   "source": [
    "# IBMD init"
   ]
  },
  {
   "cell_type": "code",
   "execution_count": null,
   "id": "285eab28-b44f-4396-bce6-d97882cdf232",
   "metadata": {},
   "outputs": [],
   "source": [
    "BATCH_SIZE = 32\n",
    "INNER_PROBLEM_ITERS = 5"
   ]
  },
  {
   "cell_type": "code",
   "execution_count": null,
   "id": "ea188382-3c3f-4817-87e0-5eb7a995b74f",
   "metadata": {},
   "outputs": [],
   "source": [
    "ibmd = IBMD(\n",
    "    teacher_dynamics=pfgmpp,\n",
    "    teacher_net=pfgmpp_cond,\n",
    "    teacher_loss_fn=EDMLoss(pfgmpp=pfgmpp),\n",
    "    student_net_optimizer_config={\"lr\": 5e-5},\n",
    "    student_data_estimator_net_config={\"lr\": 5e-5},\n",
    "    n_classes=N_CLASSES,\n",
    "    ema_decay=0.99,\n",
    ")"
   ]
  },
  {
   "cell_type": "code",
   "execution_count": null,
   "id": "53d068b5-2403-4db0-8eeb-16e0261e338a",
   "metadata": {
    "scrolled": true
   },
   "outputs": [],
   "source": [
    "visualize_ibmd(ibmd=ibmd, sample_size=N_GENS, label=LABELS.to(DEVICE), seed=0)"
   ]
  },
  {
   "cell_type": "code",
   "execution_count": null,
   "id": "1f073de7-e042-4f81-828a-48909e90bf49",
   "metadata": {},
   "outputs": [],
   "source": [
    "n_epochs = 500\n",
    "sample_every = 50\n",
    "\n",
    "for _ in range(n_epochs):\n",
    "    clear_output()\n",
    "    visualize_ibmd(ibmd=ibmd, sample_size=N_GENS, label=LABELS.to(DEVICE), seed=0)\n",
    "\n",
    "    for _ in tqdm(range(sample_every)):\n",
    "        ibmd.train_step(\n",
    "            batch_size=BATCH_SIZE,\n",
    "            inner_problem_iters=INNER_PROBLEM_ITERS,\n",
    "        )"
   ]
  }
 ],
 "metadata": {
  "kernelspec": {
   "display_name": "Python 3 (ipykernel)",
   "language": "python",
   "name": "python3"
  },
  "language_info": {
   "codemirror_mode": {
    "name": "ipython",
    "version": 3
   },
   "file_extension": ".py",
   "mimetype": "text/x-python",
   "name": "python",
   "nbconvert_exporter": "python",
   "pygments_lexer": "ipython3",
   "version": "3.11.11"
  }
 },
 "nbformat": 4,
 "nbformat_minor": 5
}
