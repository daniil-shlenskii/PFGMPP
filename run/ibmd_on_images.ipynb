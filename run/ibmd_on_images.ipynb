{
 "cells": [
  {
   "cell_type": "code",
   "execution_count": null,
   "id": "61f00b88-1a9f-4d75-82bc-ba826f71d604",
   "metadata": {},
   "outputs": [],
   "source": [
    "%load_ext autoreload\n",
    "%autoreload 2\n",
    "\n",
    "import sys\n",
    "\n",
    "sys.path.append(f\"{PROJECT_DIR}/src/pfgmpp_original\")\n",
    "    \n",
    "import os\n",
    "\n",
    "os.environ[\"CUDA_VISIBLE_DEVICES\"] = \"7\"\n",
    "\n",
    "import pickle\n",
    "import warnings\n",
    "from pathlib import Path\n",
    "\n",
    "import matplotlib.pyplot as plt\n",
    "import numpy as np\n",
    "import seaborn as sns\n",
    "import torch\n",
    "import torch.nn as nn\n",
    "import torch.nn.functional as F\n",
    "import torch.utils\n",
    "from IPython.display import clear_output\n",
    "from sklearn.utils import shuffle\n",
    "from torch import LongTensor\n",
    "from torch.utils.data import DataLoader, Dataset\n",
    "from tqdm import tqdm\n",
    "\n",
    "warnings.filterwarnings(\"ignore\", category=DeprecationWarning) \n",
    "    \n",
    "from constants import ARTIFACTS_DIR\n",
    "\n",
    "from ibmd.core import IBMD\n",
    "from pfgmpp.core import PFGMPP\n",
    "from pfgmpp.training.losses import EDMLoss\n",
    "from pfgmpp.utils.data import InfiniteDataLoader\n",
    "\n",
    "ckpt_name = \"cifar10_ncsnpp_D_2048_conditional.pkl\"\n",
    "EDM_CHEKPOINT_PATH = os.path.join(ARTIFACTS_DIR, \"pfgmpp_original\", \"checkpoints\", ckpt_name)"
   ]
  },
  {
   "cell_type": "code",
   "execution_count": null,
   "id": "964f5ee3-de42-4d13-a8da-d1bc554e9e3d",
   "metadata": {},
   "outputs": [],
   "source": [
    "# Poblem Params (CIFAR-10)\n",
    "IMG_CHANNELS =  3\n",
    "IMG_RESOLUTION = 32\n",
    "DATA_DIM = IMG_CHANNEL * IMG_RESOLUTION**2\n",
    "N_CLASSES = 10\n",
    "\n",
    "SIGMA_MIN = 0.002\n",
    "SIGMA_MAX = 80.0\n",
    "POWER = 11\n",
    "\n",
    "# Loss Params\n",
    "SIGMA_PRIOR_MODE = \"log_normal\"\n",
    "SIGMA_DATA = 0.5 \n",
    "\n",
    "# Sampling params\n",
    "N_GENS = 1\n",
    "LABELS = torch.tensor([1] * N_GENS).long()\n",
    "\n",
    "DEVICE = \"cuda\" if torch.cuda.is_available() else \"cpu\""
   ]
  },
  {
   "cell_type": "code",
   "execution_count": null,
   "id": "065f3bb1-c390-40c2-a60c-ccf8323ada0a",
   "metadata": {},
   "outputs": [],
   "source": [
    "def generate(\n",
    "    *,\n",
    "    pfgmpp: PFGMPP,\n",
    "    net: nn.Module,\n",
    "    sample_size: int,\n",
    "    num_steps: int=32,\n",
    "    label: LongTensor=None,\n",
    "    seed: int=0,\n",
    "):\n",
    "    def drift(*, x, t, label):\n",
    "        return (x - net(x=x, t=t, label=label)) / t\n",
    "    return pfgmpp.sample(\n",
    "        drift=drift,\n",
    "        sample_size=sample_size,\n",
    "        num_steps=num_steps,\n",
    "        label=label,\n",
    "        device=DEVICE,\n",
    "        seed=seed,\n",
    "    ).cpu().numpy().reshape(sample_size, IMG_CHANNELS, IMG_RESOLUTION, IMG_RESOLUTION)"
   ]
  },
  {
   "cell_type": "code",
   "execution_count": null,
   "id": "d734f666-c07b-4e7b-8e6a-649e122c170d",
   "metadata": {},
   "outputs": [],
   "source": [
    "pfgmpp = PFGMPP(\n",
    "    data_dim=DATA_DIM,\n",
    "    sigma_min=SIGMA_MIN,\n",
    "    sigma_max=SIGMA_MAX,\n",
    "    D=2**POWER,\n",
    ")\n",
    "with open(EDM_CHEKPOINT_PATH, \"rb\") as f:\n",
    "    net = pickle.load(f)['ema'].to(DEVICE);\n",
    "pfgmpp_cond = lambda x, t, label: net(\n",
    "    x=x.reshape(sample_size, IMG_CHANNELS, IMG_RESOLUTION, IMG_RESOLUTION),\n",
    "    sigma=t,\n",
    "    class_labels=F.one_hot(label, num_classes=N_CLASSES),\n",
    ").reshape(-1, DATA_DIM)"
   ]
  },
  {
   "cell_type": "code",
   "execution_count": null,
   "id": "beab4293-df4e-4b83-87b3-cd01747f62a8",
   "metadata": {},
   "outputs": [],
   "source": [
    "gens = generate(pfgmpp=pfgmpp, net=pfgmpp_cond, sample_size=N_GENS, label=LABELS.to(DEVICE),seed=4)\n",
    "plt.imshow(gens[0].transpose(1, 2, 0))"
   ]
  }
 ],
 "metadata": {
  "kernelspec": {
   "display_name": "Python 3 (ipykernel)",
   "language": "python",
   "name": "python3"
  },
  "language_info": {
   "codemirror_mode": {
    "name": "ipython",
    "version": 3
   },
   "file_extension": ".py",
   "mimetype": "text/x-python",
   "name": "python",
   "nbconvert_exporter": "python",
   "pygments_lexer": "ipython3",
   "version": "3.11.13"
  }
 },
 "nbformat": 4,
 "nbformat_minor": 5
}
