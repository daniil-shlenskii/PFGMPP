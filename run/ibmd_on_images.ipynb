{
 "cells": [
  {
   "cell_type": "code",
   "execution_count": 5,
   "id": "61f00b88-1a9f-4d75-82bc-ba826f71d604",
   "metadata": {},
   "outputs": [
    {
     "name": "stdout",
     "output_type": "stream",
     "text": [
      "The autoreload extension is already loaded. To reload it, use:\n",
      "  %reload_ext autoreload\n"
     ]
    }
   ],
   "source": [
    "%load_ext autoreload\n",
    "%autoreload 2\n",
    "\n",
    "import sys    \n",
    "import os\n",
    "\n",
    "os.environ[\"CUDA_VISIBLE_DEVICES\"] = \"7\"\n",
    "\n",
    "import pickle\n",
    "import warnings\n",
    "from pathlib import Path\n",
    "\n",
    "import matplotlib.pyplot as plt\n",
    "import numpy as np\n",
    "import seaborn as sns\n",
    "import torch\n",
    "import torch.nn as nn\n",
    "import torch.nn.functional as F\n",
    "import torch.utils\n",
    "from IPython.display import clear_output\n",
    "from sklearn.utils import shuffle\n",
    "from torch import LongTensor\n",
    "from torch.utils.data import DataLoader, Dataset\n",
    "from tqdm import tqdm\n",
    "\n",
    "warnings.filterwarnings(\"ignore\", category=DeprecationWarning) \n",
    "    \n",
    "from constants import ARTIFACTS_DIR, PROJECT_DIR\n",
    "\n",
    "from ibmd.core import IBMD\n",
    "from pfgmpp.core import PFGMPP\n",
    "from pfgmpp.training.losses import EDMLoss\n",
    "from pfgmpp.utils.data import InfiniteDataLoader\n",
    "\n",
    "sys.path.append(f\"{PROJECT_DIR}/src/pfgmpp_original\")\n",
    "\n",
    "ckpt_name = \"cifar10_ncsnpp_D_2048_conditional.pkl\"\n",
    "EDM_CHEKPOINT_PATH = os.path.join(ARTIFACTS_DIR, \"pfgmpp_original\", \"checkpoints\", ckpt_name)"
   ]
  },
  {
   "cell_type": "code",
   "execution_count": null,
   "id": "084c0905-8dec-4ecc-b6b9-2f4206ba38e0",
   "metadata": {},
   "outputs": [],
   "source": [
    "# Utils"
   ]
  },
  {
   "cell_type": "code",
   "execution_count": 10,
   "id": "964f5ee3-de42-4d13-a8da-d1bc554e9e3d",
   "metadata": {},
   "outputs": [],
   "source": [
    "# Poblem Params (CIFAR-10)\n",
    "IMG_CHANNELS =  3\n",
    "IMG_RESOLUTION = 32\n",
    "DATA_DIM = IMG_CHANNELS * IMG_RESOLUTION**2\n",
    "N_CLASSES = 10\n",
    "\n",
    "SIGMA_MIN = 0.002\n",
    "SIGMA_MAX = 80.0\n",
    "POWER = 11\n",
    "\n",
    "# Loss Params\n",
    "SIGMA_PRIOR_MODE = \"log_normal\"\n",
    "SIGMA_DATA = 0.5 \n",
    "\n",
    "# Sampling params\n",
    "N_GENS = 1\n",
    "LABELS = torch.tensor([0] * N_GENS).long()\n",
    "\n",
    "DEVICE = \"cuda\" if torch.cuda.is_available() else \"cpu\""
   ]
  },
  {
   "cell_type": "code",
   "execution_count": 14,
   "id": "065f3bb1-c390-40c2-a60c-ccf8323ada0a",
   "metadata": {},
   "outputs": [],
   "source": [
    "def generate(\n",
    "    *,\n",
    "    pfgmpp: PFGMPP,\n",
    "    net: nn.Module,\n",
    "    sample_size: int,\n",
    "    num_steps: int=32,\n",
    "    label: LongTensor=None,\n",
    "    seed: int=0,\n",
    "):\n",
    "    def drift(*, x, t, label):\n",
    "        return (x - net(x=x, t=t, label=label)) / t\n",
    "    return pfgmpp.sample(\n",
    "        drift=drift,\n",
    "        sample_size=sample_size,\n",
    "        num_steps=num_steps,\n",
    "        label=label,\n",
    "        device=DEVICE,\n",
    "        seed=seed,\n",
    "    ).cpu().numpy().reshape(sample_size, IMG_CHANNELS, IMG_RESOLUTION, IMG_RESOLUTION)"
   ]
  },
  {
   "cell_type": "code",
   "execution_count": null,
   "id": "d4af4482-cba7-4815-ad12-b0520b3b5ff5",
   "metadata": {},
   "outputs": [],
   "source": []
  },
  {
   "cell_type": "code",
   "execution_count": 31,
   "id": "6f91b85b-1666-4788-beaf-bf41e8881b8c",
   "metadata": {},
   "outputs": [],
   "source": [
    "# PFGM teacher init"
   ]
  },
  {
   "cell_type": "code",
   "execution_count": 32,
   "id": "d734f666-c07b-4e7b-8e6a-649e122c170d",
   "metadata": {},
   "outputs": [],
   "source": [
    "pfgmpp = PFGMPP(\n",
    "    data_dim=DATA_DIM,\n",
    "    sigma_min=SIGMA_MIN,\n",
    "    sigma_max=SIGMA_MAX,\n",
    "    D=2**POWER,\n",
    ")\n",
    "with open(EDM_CHEKPOINT_PATH, \"rb\") as f:\n",
    "    net = pickle.load(f)['ema'].to(DEVICE);\n",
    "pfgmpp_cond = lambda x, t, label: net(\n",
    "    x=x.reshape(-1, IMG_CHANNELS, IMG_RESOLUTION, IMG_RESOLUTION),\n",
    "    sigma=t,\n",
    "    class_labels=F.one_hot(label, num_classes=N_CLASSES),\n",
    ").reshape(-1, DATA_DIM)"
   ]
  },
  {
   "cell_type": "code",
   "execution_count": 34,
   "id": "beab4293-df4e-4b83-87b3-cd01747f62a8",
   "metadata": {},
   "outputs": [
    {
     "name": "stderr",
     "output_type": "stream",
     "text": [
      "Clipping input data to the valid range for imshow with RGB data ([0..1] for floats or [0..255] for integers). Got range [-0.85427904..1.0783778].\n"
     ]
    },
    {
     "data": {
      "image/png": "[encoded data removed]",
      "text/plain": [
       "<Figure size 200x200 with 1 Axes>"
      ]
     },
     "metadata": {},
     "output_type": "display_data"
    }
   ],
   "source": [
    "gens = generate(pfgmpp=pfgmpp, net=pfgmpp_cond, sample_size=N_GENS, label=LABELS.to(DEVICE), seed=0)\n",
    "plt.figure(figsize=(2, 2))\n",
    "plt.axis(\"off\")\n",
    "plt.imshow(gens[0].transpose(1, 2, 0));"
   ]
  },
  {
   "cell_type": "code",
   "execution_count": null,
   "id": "0f48f0e9-3888-43f2-9bdb-8822902e5d74",
   "metadata": {},
   "outputs": [],
   "source": [
    "# IBMD init"
   ]
  },
  {
   "cell_type": "code",
   "execution_count": 35,
   "id": "285eab28-b44f-4396-bce6-d97882cdf232",
   "metadata": {},
   "outputs": [],
   "source": [
    "BATCH_SIZE = 32\n",
    "INNER_PROBLEM_ITERS = 5"
   ]
  },
  {
   "cell_type": "code",
   "execution_count": 36,
   "id": "ea188382-3c3f-4817-87e0-5eb7a995b74f",
   "metadata": {},
   "outputs": [
    {
     "ename": "AttributeError",
     "evalue": "'function' object has no attribute 'parameters'",
     "output_type": "error",
     "traceback": [
      "\u001b[31m---------------------------------------------------------------------------\u001b[39m",
      "\u001b[31mAttributeError\u001b[39m                            Traceback (most recent call last)",
      "\u001b[36mCell\u001b[39m\u001b[36m \u001b[39m\u001b[32mIn[36]\u001b[39m\u001b[32m, line 1\u001b[39m\n\u001b[32m----> \u001b[39m\u001b[32m1\u001b[39m ibmd = \u001b[43mIBMD\u001b[49m\u001b[43m(\u001b[49m\n\u001b[32m      2\u001b[39m \u001b[43m    \u001b[49m\u001b[43mteacher_dynamic\u001b[49m\u001b[43m=\u001b[49m\u001b[43mpfgmpp\u001b[49m\u001b[43m,\u001b[49m\n\u001b[32m      3\u001b[39m \u001b[43m    \u001b[49m\u001b[43mteacher_net\u001b[49m\u001b[43m=\u001b[49m\u001b[43mpfgmpp_cond\u001b[49m\u001b[43m,\u001b[49m\n\u001b[32m      4\u001b[39m \u001b[43m    \u001b[49m\u001b[43mteacher_loss_fn\u001b[49m\u001b[43m=\u001b[49m\u001b[43mEDMLoss\u001b[49m\u001b[43m(\u001b[49m\u001b[43mpfgmpp\u001b[49m\u001b[43m=\u001b[49m\u001b[43mpfgmpp\u001b[49m\u001b[43m)\u001b[49m\u001b[43m,\u001b[49m\n\u001b[32m      5\u001b[39m \u001b[43m    \u001b[49m\u001b[43mstudent_net_optimizer_config\u001b[49m\u001b[43m=\u001b[49m\u001b[43m{\u001b[49m\u001b[33;43m\"\u001b[39;49m\u001b[33;43mlr\u001b[39;49m\u001b[33;43m\"\u001b[39;49m\u001b[43m:\u001b[49m\u001b[43m \u001b[49m\u001b[32;43m5e-5\u001b[39;49m\u001b[43m}\u001b[49m\u001b[43m,\u001b[49m\n\u001b[32m      6\u001b[39m \u001b[43m    \u001b[49m\u001b[43mstudent_data_estimator_net_config\u001b[49m\u001b[43m=\u001b[49m\u001b[43m{\u001b[49m\u001b[33;43m\"\u001b[39;49m\u001b[33;43mlr\u001b[39;49m\u001b[33;43m\"\u001b[39;49m\u001b[43m:\u001b[49m\u001b[43m \u001b[49m\u001b[32;43m5e-5\u001b[39;49m\u001b[43m}\u001b[49m\u001b[43m,\u001b[49m\n\u001b[32m      7\u001b[39m \u001b[43m    \u001b[49m\u001b[43mn_classes\u001b[49m\u001b[43m=\u001b[49m\u001b[43mN_CLASSES\u001b[49m\u001b[43m,\u001b[49m\n\u001b[32m      8\u001b[39m \u001b[43m    \u001b[49m\u001b[43mema_decay\u001b[49m\u001b[43m=\u001b[49m\u001b[32;43m0.99\u001b[39;49m\u001b[43m,\u001b[49m\n\u001b[32m      9\u001b[39m \u001b[43m)\u001b[49m\n",
      "\u001b[36mFile \u001b[39m\u001b[32m~/d-shlenskii/repos/PFGMPP/src/ibmd/core/ibmd.py:31\u001b[39m, in \u001b[36mIBMD.__init__\u001b[39m\u001b[34m(self, teacher_dynamic, teacher_net, teacher_loss_fn, student_net_optimizer_config, student_data_estimator_net_config, n_classes, ema_decay)\u001b[39m\n\u001b[32m     27\u001b[39m \u001b[38;5;28mself\u001b[39m.teacher_loss_fn = teacher_loss_fn\n\u001b[32m     29\u001b[39m \u001b[38;5;28mself\u001b[39m.student_net = deepcopy(teacher_net)\n\u001b[32m     30\u001b[39m \u001b[38;5;28mself\u001b[39m.student_net_optimizer = torch.optim.Adam(\n\u001b[32m---> \u001b[39m\u001b[32m31\u001b[39m     params=\u001b[38;5;28;43mself\u001b[39;49m\u001b[43m.\u001b[49m\u001b[43mstudent_net\u001b[49m\u001b[43m.\u001b[49m\u001b[43mparameters\u001b[49m(), **student_net_optimizer_config\n\u001b[32m     32\u001b[39m )\n\u001b[32m     33\u001b[39m \u001b[38;5;28mself\u001b[39m.student_data_estimator_net = deepcopy(teacher_net)\n\u001b[32m     34\u001b[39m \u001b[38;5;28mself\u001b[39m.student_data_estimator_net_optimizer = torch.optim.Adam(\n\u001b[32m     35\u001b[39m     params=\u001b[38;5;28mself\u001b[39m.student_data_estimator_net.parameters(),\n\u001b[32m     36\u001b[39m     **student_data_estimator_net_config,\n\u001b[32m     37\u001b[39m )\n",
      "\u001b[31mAttributeError\u001b[39m: 'function' object has no attribute 'parameters'"
     ]
    }
   ],
   "source": [
    "ibmd = IBMD(\n",
    "    teacher_dynamic=pfgmpp,\n",
    "    teacher_net=pfgmpp_cond,\n",
    "    teacher_loss_fn=EDMLoss(pfgmpp=pfgmpp),\n",
    "    student_net_optimizer_config={\"lr\": 5e-5},\n",
    "    student_data_estimator_net_config={\"lr\": 5e-5},\n",
    "    n_classes=N_CLASSES,\n",
    "    ema_decay=0.99,\n",
    ")"
   ]
  },
  {
   "cell_type": "code",
   "execution_count": null,
   "id": "53d068b5-2403-4db0-8eeb-16e0261e338a",
   "metadata": {},
   "outputs": [],
   "source": []
  }
 ],
 "metadata": {
  "kernelspec": {
   "display_name": "Python 3 (ipykernel)",
   "language": "python",
   "name": "python3"
  },
  "language_info": {
   "codemirror_mode": {
    "name": "ipython",
    "version": 3
   },
   "file_extension": ".py",
   "mimetype": "text/x-python",
   "name": "python",
   "nbconvert_exporter": "python",
   "pygments_lexer": "ipython3",
   "version": "3.11.13"
  }
 },
 "nbformat": 4,
 "nbformat_minor": 5
}
