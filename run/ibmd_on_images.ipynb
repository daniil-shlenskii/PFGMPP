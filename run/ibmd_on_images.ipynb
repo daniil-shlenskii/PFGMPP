{
 "cells": [
  {
   "cell_type": "code",
   "execution_count": 4,
   "id": "61f00b88-1a9f-4d75-82bc-ba826f71d604",
   "metadata": {},
   "outputs": [
    {
     "name": "stdout",
     "output_type": "stream",
     "text": [
      "The autoreload extension is already loaded. To reload it, use:\n",
      "  %reload_ext autoreload\n"
     ]
    }
   ],
   "source": [
    "%load_ext autoreload\n",
    "%autoreload 2\n",
    "\n",
    "import sys    \n",
    "import os\n",
    "\n",
    "os.environ[\"CUDA_VISIBLE_DEVICES\"] = \"1\"\n",
    "\n",
    "import pickle\n",
    "import warnings\n",
    "from pathlib import Path\n",
    "\n",
    "import matplotlib.pyplot as plt\n",
    "import numpy as np\n",
    "import seaborn as sns\n",
    "import torch\n",
    "import torch.nn as nn\n",
    "import torch.nn.functional as F\n",
    "import torch.utils\n",
    "from IPython.display import clear_output\n",
    "from sklearn.utils import shuffle\n",
    "from torch import Tensor, LongTensor\n",
    "from torch.utils.data import DataLoader, Dataset\n",
    "from tqdm import tqdm\n",
    "\n",
    "warnings.filterwarnings(\"ignore\", category=DeprecationWarning) \n",
    "    \n",
    "from constants import ARTIFACTS_DIR, PROJECT_DIR, CHECKPOINTS_DIR\n",
    "\n",
    "from ibmd.core import IBMD\n",
    "from ibmd.training.callbacks import ImageDataCallback\n",
    "from pfgmpp.core import PFGMPP\n",
    "from pfgmpp.training.losses import EDMLoss\n",
    "from pfgmpp.utils.data import InfiniteDataLoader\n",
    "\n",
    "\n",
    "# ckpt path\n",
    "ckpt_name = \"cifar10_ncsnpp_D_2048_conditional.pkl\"\n",
    "EDM_CHEKPOINT_PATH = os.path.join(ARTIFACTS_DIR, \"checkpoints\", \"pfgmpp_orig\", ckpt_name)\n",
    "\n",
    "# paths to utils for edm-like models loading\n",
    "EDM_UTILS_DIR = os.path.join(PROJECT_DIR, \"src\", \"edm_utils\")\n",
    "TORCH_UTILS_DIR = os.path.join(EDM_UTILS_DIR, \"torch_utils\")\n",
    "DNNLIB_DIR = os.path.join(EDM_UTILS_DIR, \"dnnlib\")\n",
    "sys.path.extend([EDM_UTILS_DIR, TORCH_UTILS_DIR, DNNLIB_DIR])\n",
    "\n",
    "# run dir\n",
    "DS_NAME = \"cifar10\"\n",
    "RUN_DIR = os.path.join(ARTIFACTS_DIR, \"notebooks_outputs\", \"ibmd\", DS_NAME)\n",
    "IBMD_DIR = os.path.join(RUN_DIR, ckpt_name.split(\".\")[0])\n",
    "\n",
    "os.makedirs(IBMD_DIR, exist_ok=True)"
   ]
  },
  {
   "cell_type": "markdown",
   "id": "d88efb15-f968-4430-96c7-0d3525880662",
   "metadata": {},
   "source": [
    "# Utils"
   ]
  },
  {
   "cell_type": "code",
   "execution_count": 5,
   "id": "964f5ee3-de42-4d13-a8da-d1bc554e9e3d",
   "metadata": {},
   "outputs": [],
   "source": [
    "# Poblem Params (CIFAR-10)\n",
    "IMG_CHANNELS =  3\n",
    "IMG_RESOLUTION = 32\n",
    "DATA_DIM = IMG_CHANNELS * IMG_RESOLUTION**2\n",
    "N_CLASSES = 10\n",
    "\n",
    "SIGMA_MIN = 0.002\n",
    "SIGMA_MAX = 80.0\n",
    "POWER = 11\n",
    "\n",
    "# Loss Params\n",
    "SIGMA_PRIOR_MODE = \"log_normal\"\n",
    "SIGMA_DATA = 0.5 \n",
    "\n",
    "# Sampling params\n",
    "N_GENS = 4\n",
    "LABELS = torch.tensor([0] * N_GENS).long()\n",
    "\n",
    "DEVICE = \"cuda\" if torch.cuda.is_available() else \"cpu\""
   ]
  },
  {
   "cell_type": "code",
   "execution_count": 6,
   "id": "065f3bb1-c390-40c2-a60c-ccf8323ada0a",
   "metadata": {},
   "outputs": [],
   "source": [
    "def generate(\n",
    "    *,\n",
    "    pfgmpp: PFGMPP,\n",
    "    net: nn.Module,\n",
    "    sample_size: int,\n",
    "    num_steps: int=32,\n",
    "    label: LongTensor=None,\n",
    "    seed: int=0,\n",
    "):\n",
    "    def drift(*, x, t, label):\n",
    "        return (x - net(x=x, t=t, label=label)) / t\n",
    "    return pfgmpp.sample(\n",
    "        drift=drift,\n",
    "        sample_size=sample_size,\n",
    "        num_steps=num_steps,\n",
    "        label=label,\n",
    "        device=DEVICE,\n",
    "        seed=seed,\n",
    "    ).cpu().numpy().reshape(sample_size, IMG_CHANNELS, IMG_RESOLUTION, IMG_RESOLUTION)\n",
    "\n",
    "def visualize_ibmd(\n",
    "    *,\n",
    "    ibmd: IBMD,\n",
    "    sample_size: int,\n",
    "    label: LongTensor=None,\n",
    "    seed: int=0,\n",
    "):\n",
    "    gens = ibmd.sample(\n",
    "        sample_size=sample_size,\n",
    "        label=label,\n",
    "        seed=seed,\n",
    "    ).reshape(-1, IMG_CHANNELS, IMG_RESOLUTION, IMG_RESOLUTION).cpu().numpy()\n",
    "\n",
    "    ncols = 4\n",
    "    nrows = (sample_size + ncols - 1) // ncols\n",
    "    fig, axes = plt.subplots(nrows=nrows, ncols=ncols, squeeze=False)\n",
    "    fig.set_figheight(nrows * 2)\n",
    "    fig.set_figwidth(ncols * 2)\n",
    "    \n",
    "    for ax_idx in range(nrows * ncols):\n",
    "        i, j = ax_idx // ncols, ax_idx % ncols\n",
    "        ax = axes[i, j]\n",
    "        if ax_idx < len(gens):\n",
    "            ax.axis(\"off\")\n",
    "            ax.imshow(gens[ax_idx].transpose(1, 2, 0));\n",
    "        else:\n",
    "            fig.delaxes(ax)\n",
    "    plt.show()"
   ]
  },
  {
   "cell_type": "code",
   "execution_count": 7,
   "id": "fc213d5a-2e38-4b81-8393-a551c9bfec42",
   "metadata": {},
   "outputs": [],
   "source": [
    "class EDMNetWrapper(nn.Module):\n",
    "    def __init__(\n",
    "        self,\n",
    "        *,\n",
    "        edm_net: nn.Module,\n",
    "        img_channels: int,\n",
    "        img_resolution: int,\n",
    "        n_classes: int=None\n",
    "    ):\n",
    "        super().__init__()\n",
    "        self.edm_net = edm_net\n",
    "\n",
    "        self.img_channels = img_channels\n",
    "        self.img_resolution = img_resolution\n",
    "        self.n_classes = n_classes\n",
    "\n",
    "        self.data_dim = self.img_channels * self.img_resolution**2\n",
    "\n",
    "    def forward(self, x: Tensor, t: Tensor, label: LongTensor=None):\n",
    "        # modify input\n",
    "        x = x.reshape(-1, self.img_channels, self.img_resolution, self.img_resolution)\n",
    "        if label is None:\n",
    "            class_labels = None\n",
    "        else:\n",
    "            class_labels = F.one_hot(label, num_classes=self.n_classes)\n",
    "\n",
    "        # apply edm net\n",
    "        out = self.edm_net(x=x, sigma=t, class_labels=class_labels)\n",
    "\n",
    "        # modify output\n",
    "        return out.reshape(-1, self.data_dim)\n"
   ]
  },
  {
   "cell_type": "markdown",
   "id": "dc868c86-b32e-4f20-9d3e-7bece7c5a8e6",
   "metadata": {},
   "source": [
    "# PFGM teacher init"
   ]
  },
  {
   "cell_type": "code",
   "execution_count": 8,
   "id": "d734f666-c07b-4e7b-8e6a-649e122c170d",
   "metadata": {
    "scrolled": true
   },
   "outputs": [],
   "source": [
    "pfgmpp = PFGMPP(\n",
    "    data_dim=DATA_DIM,\n",
    "    sigma_min=SIGMA_MIN,\n",
    "    sigma_max=SIGMA_MAX,\n",
    "    D=2**POWER,\n",
    ")\n",
    "\n",
    "\n",
    "with open(EDM_CHEKPOINT_PATH, \"rb\") as f:\n",
    "    net = pickle.load(f)['ema'].to(DEVICE);\n",
    "\n",
    "pfgmpp_cond = EDMNetWrapper(\n",
    "    edm_net=net,\n",
    "    img_channels=IMG_CHANNELS,\n",
    "    img_resolution=IMG_RESOLUTION,\n",
    "    n_classes=N_CLASSES,\n",
    ")\n",
    "for param in pfgmpp_cond.parameters():\n",
    "    param.requires_grad = True"
   ]
  },
  {
   "cell_type": "code",
   "execution_count": 40,
   "id": "beab4293-df4e-4b83-87b3-cd01747f62a8",
   "metadata": {},
   "outputs": [
    {
     "name": "stderr",
     "output_type": "stream",
     "text": [
      "Clipping input data to the valid range for imshow with RGB data ([0..1] for floats or [0..255] for integers). Got range [-0.85422957..1.0782671].\n"
     ]
    },
    {
     "data": {
      "image/png": "[encoded data removed]",
      "text/plain": [
       "<Figure size 200x200 with 1 Axes>"
      ]
     },
     "metadata": {},
     "output_type": "display_data"
    }
   ],
   "source": [
    "gens = generate(pfgmpp=pfgmpp, net=pfgmpp_cond, sample_size=N_GENS, label=LABELS.to(DEVICE), seed=0)\n",
    "plt.figure(figsize=(2, 2))\n",
    "plt.axis(\"off\")\n",
    "plt.imshow(gens[0].transpose(1, 2, 0));"
   ]
  },
  {
   "cell_type": "code",
   "execution_count": 41,
   "id": "0f48f0e9-3888-43f2-9bdb-8822902e5d74",
   "metadata": {},
   "outputs": [],
   "source": [
    "# IBMD init"
   ]
  },
  {
   "cell_type": "code",
   "execution_count": 42,
   "id": "285eab28-b44f-4396-bce6-d97882cdf232",
   "metadata": {},
   "outputs": [],
   "source": [
    "BATCH_SIZE = 64\n",
    "INNER_PROBLEM_ITERS = 5\n",
    "\n",
    "callback = ImageDataCallback(\n",
    "    n_classes=N_CLASSES,\n",
    "    sample_size_per_class=2,\n",
    "    img_channels=IMG_CHANNELS,\n",
    "    img_resolution=IMG_RESOLUTION,\n",
    ")"
   ]
  },
  {
   "cell_type": "code",
   "execution_count": 43,
   "id": "ea188382-3c3f-4817-87e0-5eb7a995b74f",
   "metadata": {},
   "outputs": [],
   "source": [
    "ibmd = IBMD(\n",
    "    teacher_dynamics=pfgmpp,\n",
    "    teacher_net=pfgmpp_cond,\n",
    "    teacher_loss_fn=EDMLoss(pfgmpp=pfgmpp),\n",
    "    student_net_optimizer_config={\"lr\": 3e-4},\n",
    "    student_data_estimator_net_config={\"lr\": 3e-4},\n",
    "    n_classes=N_CLASSES,\n",
    "    ema_decay=0.99,\n",
    ")"
   ]
  },
  {
   "cell_type": "code",
   "execution_count": 44,
   "id": "7faa6e66-1770-4949-b431-c0b971849c45",
   "metadata": {},
   "outputs": [],
   "source": [
    "callback(ibmd, it=0, eval_dir=IBMD_DIR)"
   ]
  },
  {
   "cell_type": "code",
   "execution_count": 45,
   "id": "53d068b5-2403-4db0-8eeb-16e0261e338a",
   "metadata": {},
   "outputs": [
    {
     "name": "stderr",
     "output_type": "stream",
     "text": [
      "Clipping input data to the valid range for imshow with RGB data ([0..1] for floats or [0..255] for integers). Got range [-0.29301047..0.27435303].\n",
      "Clipping input data to the valid range for imshow with RGB data ([0..1] for floats or [0..255] for integers). Got range [-0.37139603..0.051713377].\n",
      "Clipping input data to the valid range for imshow with RGB data ([0..1] for floats or [0..255] for integers). Got range [-0.16204363..0.25842252].\n",
      "Clipping input data to the valid range for imshow with RGB data ([0..1] for floats or [0..255] for integers). Got range [-0.34018606..0.14802878].\n"
     ]
    },
    {
     "data": {
      "image/png": "[encoded data removed]",
      "text/plain": [
       "<Figure size 800x200 with 4 Axes>"
      ]
     },
     "metadata": {},
     "output_type": "display_data"
    }
   ],
   "source": [
    "visualize_ibmd(ibmd=ibmd, sample_size=N_GENS, label=LABELS.to(DEVICE), seed=0)"
   ]
  },
  {
   "cell_type": "code",
   "execution_count": 46,
   "id": "1f073de7-e042-4f81-828a-48909e90bf49",
   "metadata": {
    "scrolled": true
   },
   "outputs": [
    {
     "name": "stderr",
     "output_type": "stream",
     "text": [
      "Clipping input data to the valid range for imshow with RGB data ([0..1] for floats or [0..255] for integers). Got range [-0.56273085..0.5844502].\n",
      "Clipping input data to the valid range for imshow with RGB data ([0..1] for floats or [0..255] for integers). Got range [-0.7650822..0.45523536].\n",
      "Clipping input data to the valid range for imshow with RGB data ([0..1] for floats or [0..255] for integers). Got range [-0.38006666..0.41487876].\n",
      "Clipping input data to the valid range for imshow with RGB data ([0..1] for floats or [0..255] for integers). Got range [-0.4614577..0.43148628].\n"
     ]
    },
    {
     "data": {
      "image/png": "[encoded data removed]",
      "text/plain": [
       "<Figure size 800x200 with 4 Axes>"
      ]
     },
     "metadata": {},
     "output_type": "display_data"
    },
    {
     "name": "stderr",
     "output_type": "stream",
     "text": [
      " 54%|███████████████████████████████████████████████████████████████████████████████▍                                                                   | 27/50 [01:24<01:12,  3.13s/it]\n"
     ]
    },
    {
     "ename": "KeyboardInterrupt",
     "evalue": "",
     "output_type": "error",
     "traceback": [
      "\u001b[31m---------------------------------------------------------------------------\u001b[39m",
      "\u001b[31mKeyboardInterrupt\u001b[39m                         Traceback (most recent call last)",
      "\u001b[36mCell\u001b[39m\u001b[36m \u001b[39m\u001b[32mIn[46]\u001b[39m\u001b[32m, line 11\u001b[39m\n\u001b[32m      8\u001b[39m callback(ibmd, it=it, eval_dir=IBMD_DIR, seed=\u001b[32m0\u001b[39m)\n\u001b[32m     10\u001b[39m \u001b[38;5;28;01mfor\u001b[39;00m _ \u001b[38;5;129;01min\u001b[39;00m tqdm(\u001b[38;5;28mrange\u001b[39m(sample_every)):\n\u001b[32m---> \u001b[39m\u001b[32m11\u001b[39m     \u001b[43mibmd\u001b[49m\u001b[43m.\u001b[49m\u001b[43mtrain_step\u001b[49m\u001b[43m(\u001b[49m\n\u001b[32m     12\u001b[39m \u001b[43m        \u001b[49m\u001b[43mbatch_size\u001b[49m\u001b[43m=\u001b[49m\u001b[43mBATCH_SIZE\u001b[49m\u001b[43m,\u001b[49m\n\u001b[32m     13\u001b[39m \u001b[43m        \u001b[49m\u001b[43minner_problem_iters\u001b[49m\u001b[43m=\u001b[49m\u001b[43mINNER_PROBLEM_ITERS\u001b[49m\u001b[43m,\u001b[49m\n\u001b[32m     14\u001b[39m \u001b[43m    \u001b[49m\u001b[43m)\u001b[49m\n\u001b[32m     15\u001b[39m     it += \u001b[32m1\u001b[39m\n",
      "\u001b[36mFile \u001b[39m\u001b[32m~/d-shlenskii/repos/PFGMPP/src/ibmd/core/ibmd.py:62\u001b[39m, in \u001b[36mIBMD.train_step\u001b[39m\u001b[34m(self, batch_size, inner_problem_iters)\u001b[39m\n\u001b[32m     60\u001b[39m \u001b[38;5;28;01mfor\u001b[39;00m _ \u001b[38;5;129;01min\u001b[39;00m \u001b[38;5;28mrange\u001b[39m(inner_problem_iters):\n\u001b[32m     61\u001b[39m     _ = \u001b[38;5;28mself\u001b[39m.update_student_data_estimator(batch_size=batch_size)\n\u001b[32m---> \u001b[39m\u001b[32m62\u001b[39m student_net_loss = \u001b[38;5;28;43mself\u001b[39;49m\u001b[43m.\u001b[49m\u001b[43mupdate_student\u001b[49m\u001b[43m(\u001b[49m\u001b[43mbatch_size\u001b[49m\u001b[43m=\u001b[49m\u001b[43mbatch_size\u001b[49m\u001b[43m)\u001b[49m\n\u001b[32m     63\u001b[39m \u001b[38;5;28;01mreturn\u001b[39;00m student_net_loss\n",
      "\u001b[36mFile \u001b[39m\u001b[32m~/d-shlenskii/repos/PFGMPP/src/ibmd/core/ibmd.py:75\u001b[39m, in \u001b[36mIBMD.update_student\u001b[39m\u001b[34m(self, batch_size)\u001b[39m\n\u001b[32m     72\u001b[39m     label = torch.randint(\u001b[32m0\u001b[39m, \u001b[38;5;28mself\u001b[39m.n_classes, (batch_size,)).to(\u001b[38;5;28mself\u001b[39m.device)\n\u001b[32m     74\u001b[39m shared_seed = torch.randint(\u001b[32m0\u001b[39m, \u001b[32m2\u001b[39m**\u001b[32m32\u001b[39m, (\u001b[32m1\u001b[39m,)).item()\n\u001b[32m---> \u001b[39m\u001b[32m75\u001b[39m student_batch = \u001b[38;5;28;43mself\u001b[39;49m\u001b[43m.\u001b[49m\u001b[43m_sample_from_student\u001b[49m\u001b[43m(\u001b[49m\u001b[43msample_size\u001b[49m\u001b[43m=\u001b[49m\u001b[43mbatch_size\u001b[49m\u001b[43m,\u001b[49m\u001b[43m \u001b[49m\u001b[43mlabel\u001b[49m\u001b[43m=\u001b[49m\u001b[43mlabel\u001b[49m\u001b[43m)\u001b[49m\n\u001b[32m     76\u001b[39m teacher_loss = \u001b[38;5;28mself\u001b[39m.teacher_loss_fn(net=\u001b[38;5;28mself\u001b[39m.teacher_net, x=student_batch, label=label, seed=shared_seed)\n\u001b[32m     77\u001b[39m student_data_estimator_loss = \u001b[38;5;28mself\u001b[39m.teacher_loss_fn(net=\u001b[38;5;28mself\u001b[39m.student_data_estimator_net, x=student_batch, label=label, seed=shared_seed)\n",
      "\u001b[36mFile \u001b[39m\u001b[32m~/d-shlenskii/repos/PFGMPP/src/ibmd/core/ibmd.py:109\u001b[39m, in \u001b[36mIBMD._sample_from_student\u001b[39m\u001b[34m(self, sample_size, label)\u001b[39m\n\u001b[32m    108\u001b[39m \u001b[38;5;28;01mdef\u001b[39;00m\u001b[38;5;250m \u001b[39m\u001b[34m_sample_from_student\u001b[39m(\u001b[38;5;28mself\u001b[39m, sample_size: \u001b[38;5;28mint\u001b[39m, label: Optional[LongTensor]=\u001b[38;5;28;01mNone\u001b[39;00m):\n\u001b[32m--> \u001b[39m\u001b[32m109\u001b[39m     prior_samples = \u001b[38;5;28;43mself\u001b[39;49m\u001b[43m.\u001b[49m\u001b[43mteacher_dynamics\u001b[49m\u001b[43m.\u001b[49m\u001b[43msample_from_prior\u001b[49m\u001b[43m(\u001b[49m\u001b[43msample_size\u001b[49m\u001b[43m)\u001b[49m.to(\u001b[38;5;28mself\u001b[39m.device)\n\u001b[32m    110\u001b[39m     t = torch.full((sample_size,), \u001b[38;5;28mself\u001b[39m.teacher_dynamics.sigma_max).to(\u001b[38;5;28mself\u001b[39m.device)\n\u001b[32m    111\u001b[39m     \u001b[38;5;28;01mreturn\u001b[39;00m \u001b[38;5;28mself\u001b[39m.student_net(x=prior_samples, t=t, label=label)\n",
      "\u001b[36mFile \u001b[39m\u001b[32m~/d-shlenskii/repos/PFGMPP/src/pfgmpp/core/pfgmpp.py:49\u001b[39m, in \u001b[36mPFGMPP.sample_from_prior\u001b[39m\u001b[34m(self, sample_size, seed)\u001b[39m\n\u001b[32m     47\u001b[39m x = torch.zeros(sample_size, \u001b[38;5;28mself\u001b[39m.data_dim)\n\u001b[32m     48\u001b[39m t = torch.full((sample_size,), \u001b[38;5;28mself\u001b[39m.sigma_max)\n\u001b[32m---> \u001b[39m\u001b[32m49\u001b[39m \u001b[38;5;28;01mreturn\u001b[39;00m \u001b[38;5;28;43mself\u001b[39;49m\u001b[43m.\u001b[49m\u001b[43msample_from_posterior\u001b[49m\u001b[43m(\u001b[49m\u001b[43mx\u001b[49m\u001b[43m=\u001b[49m\u001b[43mx\u001b[49m\u001b[43m,\u001b[49m\u001b[43m \u001b[49m\u001b[43mt\u001b[49m\u001b[43m=\u001b[49m\u001b[43mt\u001b[49m\u001b[43m,\u001b[49m\u001b[43m \u001b[49m\u001b[43mseed\u001b[49m\u001b[43m=\u001b[49m\u001b[43mseed\u001b[49m\u001b[43m)\u001b[49m\n",
      "\u001b[36mFile \u001b[39m\u001b[32m~/d-shlenskii/repos/PFGMPP/src/pfgmpp/core/pfgmpp.py:44\u001b[39m, in \u001b[36mPFGMPP.sample_from_posterior\u001b[39m\u001b[34m(self, x, t, seed)\u001b[39m\n\u001b[32m     42\u001b[39m unit_gaussian = gaussian / torch.norm(gaussian, p=\u001b[32m2\u001b[39m, dim=\u001b[32m1\u001b[39m, keepdim=\u001b[38;5;28;01mTrue\u001b[39;00m)\n\u001b[32m     43\u001b[39m \u001b[38;5;66;03m# Construct the perturbation\u001b[39;00m\n\u001b[32m---> \u001b[39m\u001b[32m44\u001b[39m \u001b[38;5;28;01mreturn\u001b[39;00m x + \u001b[43m(\u001b[49m\u001b[43munit_gaussian\u001b[49m\u001b[43m \u001b[49m\u001b[43m*\u001b[49m\u001b[43m \u001b[49m\u001b[43mR\u001b[49m\u001b[43m)\u001b[49m\u001b[43m.\u001b[49m\u001b[43mfloat\u001b[49m\u001b[43m(\u001b[49m\u001b[43m)\u001b[49m\n",
      "\u001b[31mKeyboardInterrupt\u001b[39m: "
     ]
    }
   ],
   "source": [
    "n_epochs = 500\n",
    "sample_every = 50\n",
    "\n",
    "it = 0\n",
    "for _ in range(n_epochs):\n",
    "    clear_output()\n",
    "    visualize_ibmd(ibmd=ibmd, sample_size=N_GENS, label=LABELS.to(DEVICE), seed=0)\n",
    "    callback(ibmd, it=it, eval_dir=IBMD_DIR, seed=0)\n",
    "\n",
    "    for _ in tqdm(range(sample_every)):\n",
    "        ibmd.train_step(\n",
    "            batch_size=BATCH_SIZE,\n",
    "            inner_problem_iters=INNER_PROBLEM_ITERS,\n",
    "        )\n",
    "        it += 1"
   ]
  },
  {
   "cell_type": "code",
   "execution_count": null,
   "id": "6d218024-ef36-439a-be99-9175f0b89074",
   "metadata": {
    "scrolled": true
   },
   "outputs": [],
   "source": [
    "N_GENS = 12\n",
    "LABELS = torch.tensor([2] * N_GENS).long()\n",
    "visualize_ibmd(ibmd=ibmd, sample_size=N_GENS, label=LABELS.to(DEVICE), seed=0)"
   ]
  },
  {
   "cell_type": "code",
   "execution_count": null,
   "id": "dc9ee13e-4596-4f17-aeae-a4fd1372742a",
   "metadata": {},
   "outputs": [],
   "source": []
  }
 ],
 "metadata": {
  "kernelspec": {
   "display_name": "Python 3 (ipykernel)",
   "language": "python",
   "name": "python3"
  },
  "language_info": {
   "codemirror_mode": {
    "name": "ipython",
    "version": 3
   },
   "file_extension": ".py",
   "mimetype": "text/x-python",
   "name": "python",
   "nbconvert_exporter": "python",
   "pygments_lexer": "ipython3",
   "version": "3.11.13"
  }
 },
 "nbformat": 4,
 "nbformat_minor": 5
}
