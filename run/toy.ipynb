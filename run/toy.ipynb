{
 "cells": [
  {
   "cell_type": "code",
   "execution_count": null,
   "id": "284a98e5-7e99-4efa-84c6-2b590398db78",
   "metadata": {},
   "outputs": [],
   "source": [
    "%load_ext autoreload\n",
    "%autoreload 2\n",
    "    \n",
    "import os\n",
    "    \n",
    "os.environ[\"CUDA_VISIBLE_DEVICES\"] = \"7\"\n",
    "\n",
    "import warnings\n",
    "from pathlib import Path\n",
    "\n",
    "import matplotlib.pyplot as plt\n",
    "import numpy as np\n",
    "import seaborn as sns\n",
    "import torch\n",
    "import torch.nn as nn\n",
    "import torch.nn.functional as F\n",
    "import torch.utils\n",
    "from torch import LongTensor\n",
    "from IPython.display import clear_output\n",
    "from sklearn.datasets import make_swiss_roll\n",
    "from sklearn.utils import shuffle\n",
    "from torch.utils.data import DataLoader, Dataset\n",
    "from tqdm import tqdm\n",
    "\n",
    "warnings.filterwarnings(\"ignore\", category=DeprecationWarning) \n",
    "    \n",
    "from pfgmpp.core import PFGMPP\n",
    "from pfgmpp.training.losses import EDMLoss\n",
    "from pfgmpp.training.trainer import PFGMPPTrainer\n",
    "from pfgmpp.training.networks import TimeConditionedMLP\n",
    "from pfgmpp.utils.data import InfiniteDataLoader\n",
    "from pfgmpp.classifier_training.trainer import ClassifierTrainer\n",
    "from pfgmpp.classifier_training.loss import ClassifierLoss\n",
    "from ibmd.core import IBMD\n",
    "from ibmd.training.training_loop import training_loop_instantiated\n",
    "\n",
    "from constants import ARTIFACTS_DIR\n",
    "\n",
    "DS_NAME = \"gaussians\"\n",
    "RUN_DIR = os.path.join(ARTIFACTS_DIR, \"toy\", DS_NAME)\n",
    "UNCONDITIONAL_DIR = os.path.join(RUN_DIR, \"unconditional\")\n",
    "CONDITIONAL_DIR = os.path.join(RUN_DIR, \"conditional\")\n",
    "CLASSIFIER_DIR = os.path.join(RUN_DIR, \"classifier\")\n",
    "IBMD_DIR = os.path.join(RUN_DIR, \"ibmd\")\n",
    "\n",
    "os.makedirs(UNCONDITIONAL_DIR, exist_ok=True)\n",
    "os.makedirs(CONDITIONAL_DIR, exist_ok=True)\n",
    "os.makedirs(CLASSIFIER_DIR, exist_ok=True)\n",
    "os.makedirs(IBMD_DIR, exist_ok=True)"
   ]
  },
  {
   "cell_type": "markdown",
   "id": "4c7a7236-df3c-4599-b0ef-84e56a2f6dc5",
   "metadata": {},
   "source": [
    "## Dataset"
   ]
  },
  {
   "cell_type": "code",
   "execution_count": null,
   "id": "cf1ef5ce-cab7-4e75-a9a3-317780edef79",
   "metadata": {},
   "outputs": [],
   "source": [
    "if DS_NAME == \"swiss\":\n",
    "    def make_swiss_dataset(num_samples):\n",
    "        X0, _ = make_swiss_roll(num_samples // 2, noise=0.3, random_state=0)\n",
    "        X1, _ = make_swiss_roll(num_samples // 2, noise=0.3, random_state=0)\n",
    "        X0 = X0[:, [0, 2]]\n",
    "        X1 = X1[:, [0, 2]]\n",
    "        X1 = -X1\n",
    "        X, y = shuffle(\n",
    "            np.concatenate([X0, X1], axis=0),\n",
    "            np.concatenate([np.zeros(len(X0)), np.ones(len(X1))], axis=0),\n",
    "            random_state=0)\n",
    "        X = (X - X.mean(axis=0)) / X.std(axis=0)\n",
    "    \n",
    "        return X.astype(np.float32), y\n",
    "\n",
    "    X, Y = make_swiss_dataset(2000)\n",
    "elif DS_NAME == \"gaussians\":\n",
    "    factor, sigma = 0.5, 0.3\n",
    "    mu1, sigma1 = factor * np.array([-1, -1]), sigma\n",
    "    mu2, sigma2 = factor * np.array([1, 1]), sigma\n",
    "    ds_size = 10_000\n",
    "    \n",
    "    X1 = np.random.randn(ds_size//2, len(mu1)) * sigma1 + mu1\n",
    "    Y1 = np.ones(len(X1)) * 0.\n",
    "    X2 = np.random.randn(ds_size//2, len(mu2)) * sigma2 + mu2\n",
    "    Y2 = np.ones(len(X2)) * 1.\n",
    "    \n",
    "    X = np.concatenate([X1, X2]).astype(np.float32)\n",
    "    Y = np.concatenate([Y1, Y2])\n",
    "\n",
    "MEAN, STD = np.mean(X, axis=0), np.std(X, axis=0)\n",
    "\n",
    "plt.figure(figsize=(4, 4))\n",
    "sns.scatterplot(x=X[:, 0], y=X[:, 1], hue=Y)\n",
    "plt.show()"
   ]
  },
  {
   "cell_type": "markdown",
   "id": "6e045dab-707f-4131-94cf-389df69664bc",
   "metadata": {},
   "source": [
    "## Construct Loader"
   ]
  },
  {
   "cell_type": "code",
   "execution_count": null,
   "id": "9c3864d5-3df9-4962-9c53-946e11dc41c2",
   "metadata": {},
   "outputs": [],
   "source": [
    "class LabeledDataset(Dataset):\n",
    "    def __init__(self, X, Y):\n",
    "        self.X = (X - MEAN[None]) / STD[None]\n",
    "        self.Y = Y.astype(np.long)\n",
    "\n",
    "    def __len__(self):\n",
    "        return len(self.X)\n",
    "\n",
    "    def __getitem__(self, idx):\n",
    "        return self.X[idx], self.Y[idx]"
   ]
  },
  {
   "cell_type": "code",
   "execution_count": null,
   "id": "6eb5fd8d-4960-4783-b81b-ab5af446cc79",
   "metadata": {},
   "outputs": [],
   "source": [
    "BATCH_SIZE = 256\n",
    "train_loader = InfiniteDataLoader(DataLoader(\n",
    "    LabeledDataset(X=X, Y=Y),\n",
    "    batch_size=BATCH_SIZE,\n",
    "    shuffle=True,\n",
    "))"
   ]
  },
  {
   "cell_type": "markdown",
   "id": "afe7606b-b6b0-4af4-aac9-5c6aa3326503",
   "metadata": {},
   "source": [
    "## Utils"
   ]
  },
  {
   "cell_type": "code",
   "execution_count": null,
   "id": "850337af-4739-4207-9d65-a826f66108c5",
   "metadata": {},
   "outputs": [],
   "source": [
    "# Poblem Params\n",
    "DATA_DIM = 2\n",
    "SIGMA_MIN = 0.002\n",
    "SIGMA_MAX = 50.0\n",
    "POWER = 11\n",
    "\n",
    "# Loss Params\n",
    "SIGMA_PRIOR_MODE = \"log_normal\"\n",
    "SIGMA_DATA = 0.5\n",
    "\n",
    "# Net Params\n",
    "HIDDEN_DIM = 64\n",
    "N_LAYERS = 3\n",
    "LR = 1e-4\n",
    "\n",
    "# Sample Params\n",
    "N_GENS = 10_000\n",
    "N_CLASSES = 2\n",
    "LABELS = torch.concatenate([\n",
    "    torch.zeros(N_GENS//2), torch.ones(N_GENS//2),\n",
    "]).to(torch.long)\n",
    "\n",
    "DEVICE = \"cuda\" if torch.cuda.is_available() else \"cpu\""
   ]
  },
  {
   "cell_type": "code",
   "execution_count": null,
   "id": "cfdeadf9-f7ee-4e3b-97ee-54deae8b9488",
   "metadata": {},
   "outputs": [],
   "source": [
    "def generate(\n",
    "    *,\n",
    "    pfgmpp: PFGMPP,\n",
    "    net: nn.Module,\n",
    "    sample_size: int,\n",
    "    num_steps: int=32,\n",
    "    label: LongTensor=None,\n",
    "    seed: int=0,\n",
    "):\n",
    "    def drift(*, x, t, label):\n",
    "        return (x - net(x=x, t=t, label=label)) / t\n",
    "    return pfgmpp.sample(\n",
    "        drift=drift,\n",
    "        sample_size=sample_size,\n",
    "        num_steps=num_steps,\n",
    "        label=label,\n",
    "        device=DEVICE,\n",
    "        seed=seed,\n",
    "    ).cpu().numpy() * STD[None] + MEAN[None]\n",
    "\n",
    "def generate_with_classifier(\n",
    "    *,\n",
    "    pfgmpp: PFGMPP,\n",
    "    net: nn.Module,\n",
    "    classifier: nn.Module,\n",
    "    sample_size: int,\n",
    "    label: LongTensor,\n",
    "    guidance_scale: float=1.,\n",
    "    num_steps: int=32,\n",
    "    seed: int=0,\n",
    "):\n",
    "    def drift(*, x, t, label):\n",
    "        return (x - net(x=x, t=t, label=label)) / t\n",
    "    return pfgmpp.sample_with_classifier(\n",
    "        drift=drift,\n",
    "        classifier=classifier,\n",
    "        guidance_scale=guidance_scale,\n",
    "        sample_size=sample_size,\n",
    "        num_steps=num_steps,\n",
    "        label=label,\n",
    "        device=DEVICE,\n",
    "        seed=seed,\n",
    "    ).cpu().numpy() * STD[None] + MEAN[None]"
   ]
  },
  {
   "cell_type": "markdown",
   "id": "9be2d09d-bc4e-46bf-aab1-9a04c624494f",
   "metadata": {},
   "source": [
    "## Unconditional"
   ]
  },
  {
   "cell_type": "code",
   "execution_count": null,
   "id": "55e711bb-0917-416c-b546-d93e7fdc5ff3",
   "metadata": {},
   "outputs": [],
   "source": [
    "net = TimeConditionedMLP(dim=DATA_DIM, hidden_dim=HIDDEN_DIM, n_layers=N_LAYERS, out_dim=DATA_DIM).to(DEVICE)\n",
    "optimizer = torch.optim.Adam(net.parameters(), lr=LR)\n",
    "pfgmpp = PFGMPP(\n",
    "    data_dim=DATA_DIM,\n",
    "    sigma_min=SIGMA_MIN,\n",
    "    sigma_max=SIGMA_MAX,\n",
    "    D=2**POWER,\n",
    ")\n",
    "loss_fn = EDMLoss(pfgmpp=pfgmpp, sigma_prior_mode=SIGMA_PRIOR_MODE, sigma_data=SIGMA_DATA)\n",
    "pfgmpp_trainer = PFGMPPTrainer(\n",
    "    pfgmpp=pfgmpp,\n",
    "    net=net,\n",
    "    optimizer=optimizer,\n",
    "    loss_fn=loss_fn,\n",
    ")"
   ]
  },
  {
   "cell_type": "code",
   "execution_count": null,
   "id": "b0c097be-0416-4312-b57e-de6e95228b0e",
   "metadata": {},
   "outputs": [],
   "source": [
    "n_epochs = 10\n",
    "sample_every = 10_000\n",
    "\n",
    "for _ in range(n_epochs):\n",
    "    clear_output()\n",
    "    gens =  generate(pfgmpp=pfgmpp, net=net, sample_size=N_GENS)\n",
    "    plt.figure(figsize=(4, 4))\n",
    "    sns.scatterplot(x=gens[:, 0], y=gens[:, 1])\n",
    "    plt.xlabel(\"\"); plt.ylabel(\"\")\n",
    "    plt.show()\n",
    "\n",
    "    pfgmpp_trainer.train(\n",
    "        train_loader=train_loader,\n",
    "        n_iters=sample_every,\n",
    "        log_every=5_000,\n",
    "        save_path=os.path.join(UNCONDITIONAL_DIR, f\"{int(POWER)}.pt\"),\n",
    "    )"
   ]
  },
  {
   "cell_type": "markdown",
   "id": "70e7188b-8cf1-48d2-b81e-b5c7a3bc6695",
   "metadata": {},
   "source": [
    "## Class-conditional"
   ]
  },
  {
   "cell_type": "code",
   "execution_count": null,
   "id": "2144b0f3-c635-4d33-9d98-a7a5be18da51",
   "metadata": {},
   "outputs": [],
   "source": [
    "net = TimeConditionedMLP(dim=DATA_DIM, hidden_dim=HIDDEN_DIM, n_layers=N_LAYERS, out_dim=DATA_DIM, n_classes=N_CLASSES).to(DEVICE)\n",
    "optimizer = torch.optim.Adam(net.parameters(), lr=LR)\n",
    "pfgmpp = PFGMPP(\n",
    "    data_dim=DATA_DIM,\n",
    "    sigma_min=SIGMA_MIN,\n",
    "    sigma_max=SIGMA_MAX,\n",
    "    D=2**POWER,\n",
    ")\n",
    "loss_fn = EDMLoss(pfgmpp=pfgmpp, sigma_prior_mode=SIGMA_PRIOR_MODE, sigma_data=SIGMA_DATA)\n",
    "pfgmpp_trainer = PFGMPPTrainer(\n",
    "    pfgmpp=pfgmpp,\n",
    "    net=net,\n",
    "    optimizer=optimizer,\n",
    "    loss_fn=loss_fn,\n",
    ")"
   ]
  },
  {
   "cell_type": "code",
   "execution_count": null,
   "id": "861ec1d7-7bee-4c0c-902f-ce1693b4a0f8",
   "metadata": {},
   "outputs": [],
   "source": [
    "n_epochs = 10\n",
    "sample_every = 10_000\n",
    "\n",
    "for _ in range(n_epochs):\n",
    "    clear_output()\n",
    "    gens =  generate(pfgmpp=pfgmpp, net=net, sample_size=N_GENS, label=LABELS.to(DEVICE))\n",
    "    plt.figure(figsize=(4, 4))\n",
    "    sns.scatterplot(x=gens[:, 0], y=gens[:, 1], hue=LABELS)\n",
    "    plt.xlabel(\"\"); plt.ylabel(\"\")\n",
    "    plt.show()\n",
    "\n",
    "    pfgmpp_trainer.train(\n",
    "        train_loader=train_loader,\n",
    "        n_iters=sample_every,\n",
    "        log_every=5_000,\n",
    "        save_path=os.path.join(CONDITIONAL_DIR, f\"{int(POWER)}.pt\"),\n",
    "    )"
   ]
  },
  {
   "cell_type": "markdown",
   "id": "04c519fa-315b-4452-b672-0cb6bd8f98ba",
   "metadata": {},
   "source": [
    "## Classifier Guided"
   ]
  },
  {
   "cell_type": "markdown",
   "id": "447f5dce-57ff-4825-9d69-b3890c2073e4",
   "metadata": {},
   "source": [
    "### Classifier Training"
   ]
  },
  {
   "cell_type": "code",
   "execution_count": null,
   "id": "dc8c7747-9d98-4ec9-924b-8b8aa5a71413",
   "metadata": {},
   "outputs": [],
   "source": [
    "cls = TimeConditionedMLP(dim=DATA_DIM, hidden_dim=HIDDEN_DIM, n_layers=N_LAYERS, out_dim=2).to(DEVICE)\n",
    "cls_optimizer = torch.optim.Adam(cls.parameters(), lr=LR)\n",
    "pfgmpp = PFGMPP(\n",
    "    data_dim=DATA_DIM,\n",
    "    sigma_min=SIGMA_MIN,\n",
    "    sigma_max=SIGMA_MAX,\n",
    "    D=2**POWER,\n",
    ")\n",
    "cls_loss_fn = ClassifierLoss(pfgmpp=pfgmpp)\n",
    "cls_trainer = ClassifierTrainer(\n",
    "    pfgmpp=pfgmpp,\n",
    "    net=cls,\n",
    "    optimizer=cls_optimizer,\n",
    "    loss_fn=cls_loss_fn,\n",
    ")"
   ]
  },
  {
   "cell_type": "code",
   "execution_count": null,
   "id": "c91a5c7e-3298-4d6a-a711-58798b09eda6",
   "metadata": {},
   "outputs": [],
   "source": [
    "cls_trainer.train(\n",
    "    train_loader=train_loader,\n",
    "    n_iters=50_000,\n",
    "    log_every=5_000,\n",
    "    save_path=os.path.join(CLASSIFIER_DIR, f\"{int(POWER)}.pt\"),\n",
    ")"
   ]
  },
  {
   "cell_type": "markdown",
   "id": "1a4ff3cd-45b4-4f42-bf83-7fa2fef9826e",
   "metadata": {},
   "source": [
    "### Sampling"
   ]
  },
  {
   "cell_type": "code",
   "execution_count": null,
   "id": "f6bb0654-7fd8-4ce6-ad3b-31cca646b19a",
   "metadata": {},
   "outputs": [],
   "source": [
    "pfgmpp = PFGMPP(\n",
    "    data_dim=DATA_DIM,\n",
    "    sigma_min=SIGMA_MIN,\n",
    "    sigma_max=SIGMA_MAX,\n",
    "    D=2**POWER,\n",
    ")\n",
    "\n",
    "pfgmpp_uncond = TimeConditionedMLP(dim=DATA_DIM, hidden_dim=HIDDEN_DIM, n_layers=N_LAYERS, out_dim=DATA_DIM).to(DEVICE)\n",
    "pfgmpp_cond = TimeConditionedMLP(dim=DATA_DIM, hidden_dim=HIDDEN_DIM, n_layers=N_LAYERS, out_dim=DATA_DIM, n_classes=N_CLASSES).to(DEVICE)\n",
    "cls = TimeConditionedMLP(dim=DATA_DIM, hidden_dim=HIDDEN_DIM, n_layers=N_LAYERS, out_dim=2).to(DEVICE)\n",
    "\n",
    "pfgmpp_uncond.load_state_dict(torch.load(os.path.join(UNCONDITIONAL_DIR, f\"{int(POWER)}.pt\")))\n",
    "pfgmpp_cond.load_state_dict(torch.load(os.path.join(CONDITIONAL_DIR, f\"{int(POWER)}.pt\")))\n",
    "cls.load_state_dict(torch.load(os.path.join(CLASSIFIER_DIR, f\"{int(POWER)}.pt\")));"
   ]
  },
  {
   "cell_type": "code",
   "execution_count": null,
   "id": "09036ece-0a94-428c-a7a4-973ef8e84946",
   "metadata": {},
   "outputs": [],
   "source": [
    "# check unconditional\n",
    "gens = generate(pfgmpp=pfgmpp, net=pfgmpp_uncond, sample_size=N_GENS)\n",
    "plt.figure(figsize=(4, 4))\n",
    "sns.scatterplot(x=gens[:, 0], y=gens[:, 1])\n",
    "plt.xlabel(\"\"); plt.ylabel(\"\")\n",
    "plt.show()"
   ]
  },
  {
   "cell_type": "code",
   "execution_count": null,
   "id": "ddb03ba7-0039-49f2-bcc7-b0915f22ac29",
   "metadata": {},
   "outputs": [],
   "source": [
    "# check conditional\n",
    "gens =  generate(pfgmpp=pfgmpp, net=pfgmpp_cond, sample_size=N_GENS, label=LABELS.to(DEVICE))\n",
    "plt.figure(figsize=(4, 4))\n",
    "sns.scatterplot(x=gens[:, 0], y=gens[:, 1], hue=LABELS)\n",
    "plt.xlabel(\"\"); plt.ylabel(\"\")\n",
    "plt.show()"
   ]
  },
  {
   "cell_type": "code",
   "execution_count": null,
   "id": "697b6030-4894-4267-b2f0-0f09d50c5191",
   "metadata": {},
   "outputs": [],
   "source": [
    "# with guidance\n",
    "gens =  generate_with_classifier(\n",
    "    pfgmpp=pfgmpp,\n",
    "    net=pfgmpp_uncond,\n",
    "    classifier=cls,\n",
    "    guidance_scale=1.,\n",
    "    sample_size=N_GENS,\n",
    "    label=LABELS.to(DEVICE)\n",
    ")\n",
    "plt.figure(figsize=(4, 4))\n",
    "sns.scatterplot(x=gens[:, 0], y=gens[:, 1], hue=LABELS)\n",
    "plt.xlabel(\"\"); plt.ylabel(\"\")\n",
    "plt.show()"
   ]
  },
  {
   "cell_type": "code",
   "execution_count": null,
   "id": "58a45437-9a7a-49bd-85e8-1d00f81b84bf",
   "metadata": {},
   "outputs": [],
   "source": [
    "scales = [0.] + [float(2**p) for p in [-1, 0, 1., 2, 3]]\n",
    "nplots = len(scales)\n",
    "ncols, nrows = 3, nplots//3\n",
    "fig, axes = plt.subplots(nrows, ncols, figsize=(12, 4 * nrows))\n",
    "\n",
    "for idx, scale in enumerate(scales):\n",
    "    row = idx // ncols\n",
    "    col = idx % ncols\n",
    "    ax = axes[row, col]\n",
    "    \n",
    "    gens =  generate_with_classifier(\n",
    "        pfgmpp=pfgmpp,\n",
    "        net=pfgmpp_uncond,\n",
    "        classifier=cls,\n",
    "        guidance_scale=scale,\n",
    "        sample_size=N_GENS,\n",
    "        label=LABELS.to(DEVICE),\n",
    "    )\n",
    "    \n",
    "    sns.scatterplot(x=gens[:, 0], y=gens[:, 1], hue=LABELS, ax=ax)\n",
    "    ax.set_xlabel(\"\"); ax.set_ylabel(\"\")\n",
    "    ax.set_title(f\"{np.round(scale, 1)}\")"
   ]
  },
  {
   "cell_type": "markdown",
   "id": "fc6fdb92-3f71-4c41-9f28-6a74745ef9c6",
   "metadata": {},
   "source": [
    "# IBMD"
   ]
  },
  {
   "cell_type": "markdown",
   "id": "54f93351-df99-4d5f-83cf-03ce9dd7d9f8",
   "metadata": {},
   "source": [
    "## Teacher init"
   ]
  },
  {
   "cell_type": "code",
   "execution_count": null,
   "id": "96055e3e-8413-4539-871c-04a9a31eaa5d",
   "metadata": {},
   "outputs": [],
   "source": [
    "pfgmpp = PFGMPP(\n",
    "    data_dim=DATA_DIM,\n",
    "    sigma_min=SIGMA_MIN,\n",
    "    sigma_max=SIGMA_MAX,\n",
    "    D=2**POWER,\n",
    ")\n",
    "pfgmpp_cond = TimeConditionedMLP(dim=DATA_DIM, hidden_dim=HIDDEN_DIM, n_layers=N_LAYERS, out_dim=DATA_DIM, n_classes=N_CLASSES).to(DEVICE)\n",
    "pfgmpp_cond.load_state_dict(torch.load(os.path.join(CONDITIONAL_DIR, f\"{int(POWER)}.pt\")));"
   ]
  },
  {
   "cell_type": "code",
   "execution_count": null,
   "id": "aa95c979-faff-456a-8891-489bcc8e6b39",
   "metadata": {},
   "outputs": [],
   "source": [
    "# check conditional\n",
    "gens = generate(pfgmpp=pfgmpp, net=pfgmpp_cond, sample_size=N_GENS, label=LABELS.to(DEVICE))\n",
    "plt.figure(figsize=(4, 4))\n",
    "sns.scatterplot(x=gens[:, 0], y=gens[:, 1], hue=LABELS)\n",
    "plt.xlabel(\"\"); plt.ylabel(\"\")\n",
    "plt.show()"
   ]
  },
  {
   "cell_type": "markdown",
   "id": "4a5056aa-860c-4553-9221-0d6c24e837f3",
   "metadata": {},
   "source": [
    "## IBMD init"
   ]
  },
  {
   "cell_type": "code",
   "execution_count": null,
   "id": "69c32d0c-08b0-4439-95de-12a35e335933",
   "metadata": {},
   "outputs": [],
   "source": [
    "BATCH_SIZE = 512\n",
    "INNER_PROBLEM_ITERS = 5"
   ]
  },
  {
   "cell_type": "code",
   "execution_count": null,
   "id": "41bce5f2-6ccb-46b7-9118-20586be7b44c",
   "metadata": {},
   "outputs": [],
   "source": [
    "ibmd = IBMD(\n",
    "    teacher_dynamics=pfgmpp,\n",
    "    teacher_net=pfgmpp_cond,\n",
    "    teacher_loss_fn=EDMLoss(pfgmpp=pfgmpp),\n",
    "    student_net_optimizer_config={\"lr\": 5e-5},\n",
    "    student_data_estimator_net_config={\"lr\": 5e-5},\n",
    "    n_classes=N_CLASSES,\n",
    "    ema_decay=0.99,\n",
    ")"
   ]
  },
  {
   "cell_type": "code",
   "execution_count": null,
   "id": "f6a5022c-4cc1-49d5-9fbc-2eb8d2289eb2",
   "metadata": {},
   "outputs": [],
   "source": []
  },
  {
   "cell_type": "code",
   "execution_count": null,
   "id": "ead7f82b-731f-4e2c-ab6e-0111ba11e0c5",
   "metadata": {},
   "outputs": [],
   "source": [
    "def callback(ibmd: IBMD, it: int):\n",
    "    clear_output()\n",
    "    gens = ibmd.sample(sample_size=N_GENS, label=LABELS.to(DEVICE)).cpu().numpy()\n",
    "    plt.figure(figsize=(4, 4))\n",
    "    sns.scatterplot(x=gens[:, 0], y=gens[:, 1], hue=LABELS)\n",
    "    plt.xlabel(\"\"); plt.ylabel(\"\")\n",
    "    plt.show()"
   ]
  },
  {
   "cell_type": "code",
   "execution_count": null,
   "id": "5b2ed1b3-4dba-4cd6-99da-483b7d9f59ff",
   "metadata": {},
   "outputs": [],
   "source": [
    "callback(ibmd, it=0)"
   ]
  },
  {
   "cell_type": "code",
   "execution_count": null,
   "id": "987bdd0d-21c4-4a61-9cd8-b8dc103acfaa",
   "metadata": {},
   "outputs": [],
   "source": [
    "training_loop_instantiated(\n",
    "    ibmd=ibmd,\n",
    "    #\n",
    "    batch_size=BATCH_SIZE,\n",
    "    inner_problem_iters=INNER_PROBLEM_ITERS,\n",
    "    n_iters=20_000,\n",
    "    #\n",
    "    log_every=500,\n",
    "    eval_every=500,\n",
    "    callback=callback,\n",
    "    # save_path=os.path.join(IBMD_DIR, f\"{int(POWER)}.pt\"),\n",
    ")"
   ]
  }
 ],
 "metadata": {
  "kernelspec": {
   "display_name": "Python 3 (ipykernel)",
   "language": "python",
   "name": "python3"
  },
  "language_info": {
   "codemirror_mode": {
    "name": "ipython",
    "version": 3
   },
   "file_extension": ".py",
   "mimetype": "text/x-python",
   "name": "python",
   "nbconvert_exporter": "python",
   "pygments_lexer": "ipython3",
   "version": "3.11.11"
  }
 },
 "nbformat": 4,
 "nbformat_minor": 5
}
