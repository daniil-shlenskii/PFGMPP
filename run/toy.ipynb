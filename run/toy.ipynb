{
 "cells": [
  {
   "cell_type": "code",
   "execution_count": null,
   "id": "284a98e5-7e99-4efa-84c6-2b590398db78",
   "metadata": {},
   "outputs": [],
   "source": [
    "import matplotlib.pyplot as plt\n",
    "import numpy as np\n",
    "import seaborn as sns\n",
    "import torch\n",
    "import torch.nn as nn\n",
    "import torch.nn.functional as F\n",
    "import torch.utils\n",
    "from sklearn.datasets import make_swiss_roll\n",
    "from sklearn.utils import shuffle\n",
    "from torch.utils.data import DataLoader, Dataset\n",
    "from tqdm import tqdm\n",
    "from IPython.display import clear_output\n",
    "\n",
    "device = \"cuda\" if torch.cuda.is_available() else \"cpu\""
   ]
  },
  {
   "cell_type": "markdown",
   "id": "4c7a7236-df3c-4599-b0ef-84e56a2f6dc5",
   "metadata": {},
   "source": [
    "## Dataset"
   ]
  },
  {
   "cell_type": "code",
   "execution_count": null,
   "id": "cf1ef5ce-cab7-4e75-a9a3-317780edef79",
   "metadata": {},
   "outputs": [],
   "source": [
    "DS_NAME = \"gaussians\"\n",
    "\n",
    "if DS_NAME == \"swiss\":\n",
    "    def make_swiss_dataset(num_samples):\n",
    "        X0, _ = make_swiss_roll(num_samples // 2, noise=0.3, random_state=0)\n",
    "        X1, _ = make_swiss_roll(num_samples // 2, noise=0.3, random_state=0)\n",
    "        X0 = X0[:, [0, 2]]\n",
    "        X1 = X1[:, [0, 2]]\n",
    "        X1 = -X1\n",
    "        X, y = shuffle(\n",
    "            np.concatenate([X0, X1], axis=0),\n",
    "            np.concatenate([np.zeros(len(X0)), np.ones(len(X1))], axis=0),\n",
    "            random_state=0)\n",
    "        X = (X - X.mean(axis=0)) / X.std(axis=0)\n",
    "    \n",
    "        return X.astype(np.float32), y\n",
    "\n",
    "    X, Y = make_swiss_dataset(2000)\n",
    "elif DS_NAME == \"gaussians\":\n",
    "    factor, sigma = 0.5, 0.3\n",
    "    mu1, sigma1 = factor * np.array([-1, -1]), sigma\n",
    "    mu2, sigma2 = factor * np.array([1, 1]), sigma\n",
    "    ds_size = 10_000\n",
    "    \n",
    "    X1 = np.random.randn(ds_size//2, len(mu1)) * sigma1 + mu1\n",
    "    Y1 = np.ones(len(X1)) * 0.\n",
    "    X2 = np.random.randn(ds_size//2, len(mu2)) * sigma2 + mu2\n",
    "    Y2 = np.ones(len(X2)) * 1.\n",
    "    \n",
    "    X = np.concatenate([X1, X2]).astype(np.float32)\n",
    "    Y = np.concatenate([Y1, Y2])\n",
    "\n",
    "MEAN, STD = np.mean(X, axis=0), np.std(X, axis=0)\n",
    "\n",
    "plt.figure(figsize=(4, 4))\n",
    "sns.scatterplot(x=X[:, 0], y=X[:, 1], hue=Y)\n",
    "plt.show()"
   ]
  },
  {
   "cell_type": "markdown",
   "id": "6e045dab-707f-4131-94cf-389df69664bc",
   "metadata": {},
   "source": [
    "## Construct Loader"
   ]
  },
  {
   "cell_type": "code",
   "execution_count": null,
   "id": "9c3864d5-3df9-4962-9c53-946e11dc41c2",
   "metadata": {},
   "outputs": [],
   "source": [
    "class LabeledDataset(Dataset):\n",
    "    def __init__(self, X, Y):\n",
    "        self.X = (X - MEAN[None]) / STD[None]\n",
    "        self.Y = Y.astype(np.long)\n",
    "\n",
    "    def __len__(self):\n",
    "        return len(self.X)\n",
    "\n",
    "    def __getitem__(self, idx):\n",
    "        return self.X[idx], self.Y[idx]"
   ]
  },
  {
   "cell_type": "code",
   "execution_count": null,
   "id": "6eb5fd8d-4960-4783-b81b-ab5af446cc79",
   "metadata": {},
   "outputs": [],
   "source": [
    "BATCH_SIZE = 256\n",
    "train_loader = DataLoader(\n",
    "    LabeledDataset(X=X, Y=Y),\n",
    "    batch_size=BATCH_SIZE,\n",
    "    shuffle=True,\n",
    ")"
   ]
  },
  {
   "cell_type": "markdown",
   "id": "9be2d09d-bc4e-46bf-aab1-9a04c624494f",
   "metadata": {},
   "source": [
    "## Unconditional"
   ]
  },
  {
   "cell_type": "code",
   "execution_count": null,
   "id": "55e711bb-0917-416c-b546-d93e7fdc5ff3",
   "metadata": {},
   "outputs": [],
   "source": [
    "%load_ext autoreload\n",
    "%autoreload 2\n",
    "    \n",
    "from pfgmpp import PFGMPP\n",
    "from models import BaseField\n",
    "\n",
    "model = BaseField(dim=2, hidden_dim=64, n_layers=3).to(device)\n",
    "optimizer = torch.optim.Adam(model.parameters(), lr=3e-4)\n",
    "D = 1024\n",
    "\n",
    "pfgmpp = PFGMPP(\n",
    "    data_dim=2,\n",
    "    model=model,\n",
    "    optimizer=optimizer,\n",
    "    device=device,\n",
    "    sigma_min=0.002,\n",
    "    sigma_max=80.,\n",
    ")"
   ]
  },
  {
   "cell_type": "code",
   "execution_count": null,
   "id": "b0c097be-0416-4312-b57e-de6e95228b0e",
   "metadata": {},
   "outputs": [],
   "source": [
    "n_epochs = 20\n",
    "sample_every = 10_000\n",
    "n_gens = 5000\n",
    "\n",
    "for _ in range(n_epochs):\n",
    "    clear_output()\n",
    "    gens = pfgmpp.sample(n_gens, num_steps=32) * STD[None] + MEAN[None]\n",
    "    plt.figure(figsize=(4, 4))\n",
    "    sns.scatterplot(x=gens[:, 0], y=gens[:, 1])\n",
    "    plt.xlabel(\"\"); plt.ylabel(\"\")\n",
    "    plt.show()\n",
    "\n",
    "    pfgmpp.train(train_loader, n_iters=sample_every, log_every=5_000)"
   ]
  },
  {
   "cell_type": "markdown",
   "id": "70e7188b-8cf1-48d2-b81e-b5c7a3bc6695",
   "metadata": {},
   "source": [
    "## Class-conditional"
   ]
  },
  {
   "cell_type": "code",
   "execution_count": null,
   "id": "2144b0f3-c635-4d33-9d98-a7a5be18da51",
   "metadata": {},
   "outputs": [],
   "source": [
    "%load_ext autoreload\n",
    "%autoreload 2\n",
    "    \n",
    "from pfgmpp import PFGMPP\n",
    "from models import BaseField\n",
    "\n",
    "N_CLASSES = 2\n",
    "\n",
    "model = BaseField(dim=2, hidden_dim=64, n_layers=3, n_classes=N_CLASSES).to(device)\n",
    "optimizer = torch.optim.Adam(model.parameters(), lr=3e-4)\n",
    "D = 1024\n",
    "\n",
    "pfgmpp = PFGMPP(\n",
    "    data_dim=2,\n",
    "    model=model,\n",
    "    optimizer=optimizer,\n",
    "    device=device,\n",
    "    sigma_min=0.002,\n",
    "    sigma_max=80.,\n",
    ")"
   ]
  },
  {
   "cell_type": "code",
   "execution_count": null,
   "id": "861ec1d7-7bee-4c0c-902f-ce1693b4a0f8",
   "metadata": {},
   "outputs": [],
   "source": [
    "sample_every = 25_000\n",
    "n_gens = 5000\n",
    "label = torch.concatenate([\n",
    "    torch.zeros(n_gens//2), torch.ones(n_gens//2),\n",
    "]).to(device).to(torch.long)\n",
    "\n",
    "for n_epochs in range(200):\n",
    "    clear_output()\n",
    "    gens = pfgmpp.sample(n_gens, num_steps=32, label=label) * STD[None] + MEAN[None]\n",
    "    plt.figure(figsize=(4, 4))\n",
    "    sns.scatterplot(x=gens[:, 0], y=gens[:, 1], hue=label)\n",
    "    plt.xlabel(\"\"); plt.ylabel(\"\")\n",
    "\n",
    "    pfgmpp.train(train_loader, n_iters=sample_every, log_every=5_000)"
   ]
  },
  {
   "cell_type": "code",
   "execution_count": null,
   "id": "bcec49ff-dfd5-4fd2-992e-471206cfdb47",
   "metadata": {},
   "outputs": [],
   "source": [
    "n_gens = 20_000\n",
    "label = torch.concatenate([\n",
    "    torch.zeros(n_gens//2), torch.ones(n_gens//2),\n",
    "]).to(device).to(torch.long)\n",
    "gens = pfgmpp.sample(n_gens, num_steps=32, label=label) * STD[None] + MEAN[None]\n",
    "plt.figure(figsize=(4, 4))\n",
    "sns.scatterplot(x=gens[:, 0], y=gens[:, 1], hue=label);\n",
    "plt.show()"
   ]
  },
  {
   "cell_type": "code",
   "execution_count": null,
   "id": "c91a5c7e-3298-4d6a-a711-58798b09eda6",
   "metadata": {},
   "outputs": [],
   "source": []
  },
  {
   "cell_type": "code",
   "execution_count": null,
   "id": "cd9d102e-3a8c-47c6-a0eb-37eaefb3816e",
   "metadata": {},
   "outputs": [],
   "source": []
  }
 ],
 "metadata": {
  "kernelspec": {
   "display_name": "pfgmpp",
   "language": "python",
   "name": "pfgmpp"
  },
  "language_info": {
   "codemirror_mode": {
    "name": "ipython",
    "version": 3
   },
   "file_extension": ".py",
   "mimetype": "text/x-python",
   "name": "python",
   "nbconvert_exporter": "python",
   "pygments_lexer": "ipython3",
   "version": "3.11.11"
  }
 },
 "nbformat": 4,
 "nbformat_minor": 5
}
