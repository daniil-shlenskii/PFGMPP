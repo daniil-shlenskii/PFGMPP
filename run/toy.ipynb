{
 "cells": [
  {
   "cell_type": "code",
   "execution_count": null,
   "id": "284a98e5-7e99-4efa-84c6-2b590398db78",
   "metadata": {},
   "outputs": [],
   "source": [
    "import os\n",
    "import warnings\n",
    "from pathlib import Path\n",
    "\n",
    "import matplotlib.pyplot as plt\n",
    "import numpy as np\n",
    "import seaborn as sns\n",
    "import torch\n",
    "import torch.nn as nn\n",
    "import torch.nn.functional as F\n",
    "import torch.utils\n",
    "from IPython.display import clear_output\n",
    "from sklearn.datasets import make_swiss_roll\n",
    "from sklearn.utils import shuffle\n",
    "from torch.utils.data import DataLoader, Dataset\n",
    "from tqdm import tqdm\n",
    "\n",
    "warnings.filterwarnings(\"ignore\", category=DeprecationWarning) \n",
    "\n",
    "from constants import ARTIFACTS_DIR\n",
    "\n",
    "device = \"cuda\" if torch.cuda.is_available() else \"cpu\"\n",
    "\n",
    "DS_NAME = \"gaussians\"\n",
    "RUN_DIR = os.path.join(ARTIFACTS_DIR, \"toy\", DS_NAME)\n",
    "UNCONDITIONAL_DIR = os.path.join(RUN_DIR, \"unconditional\")\n",
    "CONDITIONAL_DIR = os.path.join(RUN_DIR, \"conditional\")\n",
    "CLASSIFIER_DIR = os.path.join(RUN_DIR, \"classifier\")\n",
    "\n",
    "os.makedirs(UNCONDITIONAL_DIR, exist_ok=True)\n",
    "os.makedirs(CONDITIONAL_DIR, exist_ok=True)\n",
    "os.makedirs(CLASSIFIER_DIR, exist_ok=True)"
   ]
  },
  {
   "cell_type": "markdown",
   "id": "4c7a7236-df3c-4599-b0ef-84e56a2f6dc5",
   "metadata": {},
   "source": [
    "## Dataset"
   ]
  },
  {
   "cell_type": "code",
   "execution_count": null,
   "id": "cf1ef5ce-cab7-4e75-a9a3-317780edef79",
   "metadata": {},
   "outputs": [],
   "source": [
    "if DS_NAME == \"swiss\":\n",
    "    def make_swiss_dataset(num_samples):\n",
    "        X0, _ = make_swiss_roll(num_samples // 2, noise=0.3, random_state=0)\n",
    "        X1, _ = make_swiss_roll(num_samples // 2, noise=0.3, random_state=0)\n",
    "        X0 = X0[:, [0, 2]]\n",
    "        X1 = X1[:, [0, 2]]\n",
    "        X1 = -X1\n",
    "        X, y = shuffle(\n",
    "            np.concatenate([X0, X1], axis=0),\n",
    "            np.concatenate([np.zeros(len(X0)), np.ones(len(X1))], axis=0),\n",
    "            random_state=0)\n",
    "        X = (X - X.mean(axis=0)) / X.std(axis=0)\n",
    "    \n",
    "        return X.astype(np.float32), y\n",
    "\n",
    "    X, Y = make_swiss_dataset(2000)\n",
    "elif DS_NAME == \"gaussians\":\n",
    "    factor, sigma = 0.5, 0.3\n",
    "    mu1, sigma1 = factor * np.array([-1, -1]), sigma\n",
    "    mu2, sigma2 = factor * np.array([1, 1]), sigma\n",
    "    ds_size = 10_000\n",
    "    \n",
    "    X1 = np.random.randn(ds_size//2, len(mu1)) * sigma1 + mu1\n",
    "    Y1 = np.ones(len(X1)) * 0.\n",
    "    X2 = np.random.randn(ds_size//2, len(mu2)) * sigma2 + mu2\n",
    "    Y2 = np.ones(len(X2)) * 1.\n",
    "    \n",
    "    X = np.concatenate([X1, X2]).astype(np.float32)\n",
    "    Y = np.concatenate([Y1, Y2])\n",
    "\n",
    "MEAN, STD = np.mean(X, axis=0), np.std(X, axis=0)\n",
    "\n",
    "plt.figure(figsize=(4, 4))\n",
    "sns.scatterplot(x=X[:, 0], y=X[:, 1], hue=Y)\n",
    "plt.show()"
   ]
  },
  {
   "cell_type": "markdown",
   "id": "6e045dab-707f-4131-94cf-389df69664bc",
   "metadata": {},
   "source": [
    "## Construct Loader"
   ]
  },
  {
   "cell_type": "code",
   "execution_count": null,
   "id": "9c3864d5-3df9-4962-9c53-946e11dc41c2",
   "metadata": {},
   "outputs": [],
   "source": [
    "class LabeledDataset(Dataset):\n",
    "    def __init__(self, X, Y):\n",
    "        self.X = (X - MEAN[None]) / STD[None]\n",
    "        self.Y = Y.astype(np.long)\n",
    "\n",
    "    def __len__(self):\n",
    "        return len(self.X)\n",
    "\n",
    "    def __getitem__(self, idx):\n",
    "        return self.X[idx], self.Y[idx]"
   ]
  },
  {
   "cell_type": "code",
   "execution_count": null,
   "id": "6eb5fd8d-4960-4783-b81b-ab5af446cc79",
   "metadata": {},
   "outputs": [],
   "source": [
    "BATCH_SIZE = 256\n",
    "train_loader = DataLoader(\n",
    "    LabeledDataset(X=X, Y=Y),\n",
    "    batch_size=BATCH_SIZE,\n",
    "    shuffle=True,\n",
    ")"
   ]
  },
  {
   "cell_type": "markdown",
   "id": "9be2d09d-bc4e-46bf-aab1-9a04c624494f",
   "metadata": {},
   "source": [
    "## Unconditional"
   ]
  },
  {
   "cell_type": "code",
   "execution_count": null,
   "id": "55e711bb-0917-416c-b546-d93e7fdc5ff3",
   "metadata": {},
   "outputs": [],
   "source": [
    "%load_ext autoreload\n",
    "%autoreload 2\n",
    "    \n",
    "from pfgmpp.core import PFGMPP\n",
    "from pfgmpp.models import BaseField\n",
    "\n",
    "model = BaseField(dim=2, hidden_dim=64, n_layers=3).to(device)\n",
    "optimizer = torch.optim.Adam(model.parameters(), lr=3e-4)\n",
    "power = 20\n",
    "\n",
    "pfgmpp = PFGMPP(\n",
    "    data_dim=2,\n",
    "    model=model,\n",
    "    optimizer=optimizer,\n",
    "    device=device,\n",
    "    sigma_min=0.002,\n",
    "    sigma_max=50.,\n",
    "    D=2**power,\n",
    ")"
   ]
  },
  {
   "cell_type": "code",
   "execution_count": null,
   "id": "b0c097be-0416-4312-b57e-de6e95228b0e",
   "metadata": {},
   "outputs": [],
   "source": [
    "n_epochs = 10\n",
    "sample_every = 10_000\n",
    "n_gens = 5000\n",
    "\n",
    "for _ in range(n_epochs):\n",
    "    clear_output()\n",
    "    gens = pfgmpp.sample(sample_size=n_gens, num_steps=32) * STD[None] + MEAN[None]\n",
    "    plt.figure(figsize=(4, 4))\n",
    "    sns.scatterplot(x=gens[:, 0], y=gens[:, 1])\n",
    "    plt.xlabel(\"\"); plt.ylabel(\"\")\n",
    "    plt.show()\n",
    "\n",
    "    pfgmpp.train(train_loader=train_loader, n_iters=sample_every, log_every=5_000)"
   ]
  },
  {
   "cell_type": "code",
   "execution_count": null,
   "id": "9115dc76-d702-4076-8d09-89ed64779a22",
   "metadata": {},
   "outputs": [],
   "source": [
    "# pfgmpp.save_model(os.path.join(UNCONDITIONAL_DIR, f\"{int(power)}.pt\"))"
   ]
  },
  {
   "cell_type": "markdown",
   "id": "70e7188b-8cf1-48d2-b81e-b5c7a3bc6695",
   "metadata": {},
   "source": [
    "## Class-conditional"
   ]
  },
  {
   "cell_type": "code",
   "execution_count": null,
   "id": "2144b0f3-c635-4d33-9d98-a7a5be18da51",
   "metadata": {},
   "outputs": [],
   "source": [
    "%load_ext autoreload\n",
    "%autoreload 2\n",
    "    \n",
    "from pfgmpp.core import PFGMPP\n",
    "from pfgmpp.models import BaseField\n",
    "\n",
    "N_CLASSES = 2\n",
    "\n",
    "model = BaseField(dim=2, hidden_dim=64, n_layers=3, n_classes=N_CLASSES).to(device)\n",
    "optimizer = torch.optim.Adam(model.parameters(), lr=3e-4)\n",
    "power = 20\n",
    "\n",
    "pfgmpp = PFGMPP(\n",
    "    data_dim=2,\n",
    "    model=model,\n",
    "    optimizer=optimizer,\n",
    "    device=device,\n",
    "    sigma_min=0.002,\n",
    "    sigma_max=50.,\n",
    "    D=2**power,\n",
    ")"
   ]
  },
  {
   "cell_type": "code",
   "execution_count": null,
   "id": "861ec1d7-7bee-4c0c-902f-ce1693b4a0f8",
   "metadata": {},
   "outputs": [],
   "source": [
    "n_epochs = 10\n",
    "sample_every = 10_000\n",
    "n_gens = 10_000\n",
    "label = torch.concatenate([\n",
    "    torch.zeros(n_gens//2), torch.ones(n_gens//2),\n",
    "]).to(device).to(torch.long)\n",
    "\n",
    "for _ in range(n_epochs):\n",
    "    clear_output()\n",
    "    gens = pfgmpp.sample(sample_size=n_gens, num_steps=32, label=label) * STD[None] + MEAN[None]\n",
    "    plt.figure(figsize=(4, 4))\n",
    "    sns.scatterplot(x=gens[:, 0], y=gens[:, 1], hue=label)\n",
    "    plt.xlabel(\"\"); plt.ylabel(\"\")\n",
    "    plt.show()\n",
    "\n",
    "    pfgmpp.train(train_loader=train_loader, n_iters=sample_every, log_every=5_000)"
   ]
  },
  {
   "cell_type": "code",
   "execution_count": null,
   "id": "ea20f94c-f4ce-4a73-aa98-d40961fa12a0",
   "metadata": {},
   "outputs": [],
   "source": [
    "# pfgmpp.save_model(os.path.join(CONDITIONAL_DIR, f\"{int(power)}.pt\"))"
   ]
  },
  {
   "cell_type": "markdown",
   "id": "04c519fa-315b-4452-b672-0cb6bd8f98ba",
   "metadata": {},
   "source": [
    "## Classifier Guided"
   ]
  },
  {
   "cell_type": "code",
   "execution_count": null,
   "id": "c91a5c7e-3298-4d6a-a711-58798b09eda6",
   "metadata": {},
   "outputs": [],
   "source": [
    "%load_ext autoreload\n",
    "%autoreload 2\n",
    "    \n",
    "from pfgmpp.core import PFGMPPGuided\n",
    "from pfgmpp.models import BaseField\n",
    "from pfgmpp.nn.networks import TimeConditionedMLP\n",
    "\n",
    "N_CLASSES = 2\n",
    "\n",
    "model = BaseField(dim=2, hidden_dim=64, n_layers=3).to(device)\n",
    "# model = BaseField(dim=2, hidden_dim=64, n_layers=3, n_classes=N_CLASSES).to(device)\n",
    "optimizer = torch.optim.Adam(model.parameters(), lr=3e-4)\n",
    "cls = TimeConditionedMLP(dim=2, hidden_dim=64, n_layers=3, out_dim=N_CLASSES).to(device)\n",
    "cls_optimizer = torch.optim.Adam(cls.parameters(), lr=3e-4)\n",
    "power = 20\n",
    "\n",
    "pfgmpp = PFGMPPGuided(\n",
    "    data_dim=2,\n",
    "    model=model,\n",
    "    optimizer=optimizer,\n",
    "    cls=cls,\n",
    "    cls_optimizer=cls_optimizer,\n",
    "    device=device,\n",
    "    sigma_min=0.002,\n",
    "    sigma_max=50.,\n",
    "    D=2**power,\n",
    ")"
   ]
  },
  {
   "cell_type": "code",
   "execution_count": null,
   "id": "8fe30644-d1a8-4407-ac94-5d7f0638692a",
   "metadata": {},
   "outputs": [],
   "source": [
    "# pfgmpp.train_classifier(train_loader, n_iters=50_000, log_every=5_000)"
   ]
  },
  {
   "cell_type": "code",
   "execution_count": null,
   "id": "336c339d-ad7d-4e8c-8199-bdaeb03ed531",
   "metadata": {},
   "outputs": [],
   "source": [
    "# pfgmpp.save_classifier(os.path.join(CLASSIFIER_DIR, f\"{int(power)}.pt\"))"
   ]
  },
  {
   "cell_type": "code",
   "execution_count": null,
   "id": "cee0bd37-8eae-43d4-a545-58acd3e0435e",
   "metadata": {},
   "outputs": [],
   "source": [
    "pfgmpp.load_model(os.path.join(UNCONDITIONAL_DIR, f\"{int(power)}.pt\"))\n",
    "pfgmpp.load_classifier(os.path.join(CLASSIFIER_DIR, f\"{int(power)}.pt\"))"
   ]
  },
  {
   "cell_type": "code",
   "execution_count": null,
   "id": "f751dbea-af32-46c9-8aff-8d5e8338550e",
   "metadata": {},
   "outputs": [],
   "source": [
    "# sampling parameters\n",
    "n_gens = 20_000\n",
    "# label = torch.zeros(n_gens).to(device).to(torch.long)\n",
    "label = torch.concatenate([\n",
    "    torch.zeros(n_gens//2), torch.ones(n_gens//2),\n",
    "]).to(device).to(torch.long)"
   ]
  },
  {
   "cell_type": "code",
   "execution_count": null,
   "id": "09036ece-0a94-428c-a7a4-973ef8e84946",
   "metadata": {},
   "outputs": [],
   "source": [
    "# check unconditional\n",
    "gens = pfgmpp.sample_unconditional(sample_size=n_gens, rho=7, num_steps=32, label=label) * STD[None] + MEAN[None]\n",
    "plt.figure(figsize=(4, 4))\n",
    "sns.scatterplot(x=gens[:, 0], y=gens[:, 1])\n",
    "plt.xlabel(\"\"); plt.ylabel(\"\")\n",
    "plt.show()"
   ]
  },
  {
   "cell_type": "code",
   "execution_count": null,
   "id": "697b6030-4894-4267-b2f0-0f09d50c5191",
   "metadata": {},
   "outputs": [],
   "source": [
    "# with guidance\n",
    "gens = pfgmpp.sample(sample_size=n_gens, rho=7, num_steps=32, label=label, guidance_scale=1.) * STD[None] + MEAN[None]\n",
    "plt.figure(figsize=(4, 4))\n",
    "sns.scatterplot(x=gens[:, 0], y=gens[:, 1], hue=label)\n",
    "plt.xlabel(\"\"); plt.ylabel(\"\")\n",
    "plt.show()"
   ]
  },
  {
   "cell_type": "code",
   "execution_count": null,
   "id": "58a45437-9a7a-49bd-85e8-1d00f81b84bf",
   "metadata": {},
   "outputs": [],
   "source": [
    "scales = [0.] + [float(2**p) for p in [-1, 0, 1., 2, 3]]\n",
    "nplots = len(scales)\n",
    "ncols, nrows = 3, nplots//3\n",
    "fig, axes = plt.subplots(nrows, ncols, figsize=(12, 4 * nrows))\n",
    "\n",
    "for idx, scale in enumerate(scales):\n",
    "    row = idx // ncols\n",
    "    col = idx % ncols\n",
    "    ax = axes[row, col]\n",
    "    \n",
    "    gens = pfgmpp.sample(sample_size=n_gens, rho=7, num_steps=32, label=label, guidance_scale=scale) * STD[None] + MEAN[None]\n",
    "    \n",
    "    sns.scatterplot(x=gens[:, 0], y=gens[:, 1], hue=label, ax=ax)\n",
    "    ax.set_xlabel(\"\"); ax.set_ylabel(\"\")\n",
    "    ax.set_title(f\"{np.round(scale, 1)}\")"
   ]
  }
 ],
 "metadata": {
  "kernelspec": {
   "display_name": "pfgmpp",
   "language": "python",
   "name": "pfgmpp"
  },
  "language_info": {
   "codemirror_mode": {
    "name": "ipython",
    "version": 3
   },
   "file_extension": ".py",
   "mimetype": "text/x-python",
   "name": "python",
   "nbconvert_exporter": "python",
   "pygments_lexer": "ipython3",
   "version": "3.11.11"
  }
 },
 "nbformat": 4,
 "nbformat_minor": 5
}
